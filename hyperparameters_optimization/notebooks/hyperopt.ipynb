{
 "cells": [
  {
   "cell_type": "markdown",
   "metadata": {
    "toc": true
   },
   "source": [
    "<h1>Table of Contents<span class=\"tocSkip\"></span></h1>\n",
    "<div class=\"toc\"><ul class=\"toc-item\"><li><span><a href=\"#Spark-MLlib-Tuning\" data-toc-modified-id=\"Spark-MLlib-Tuning-1\"><span class=\"toc-item-num\">1&nbsp;&nbsp;</span><a href=\"https://spark.apache.org/docs/latest/ml-tuning.html\" target=\"_blank\">Spark MLlib Tuning</a></a></span></li><li><span><a href=\"#Hyperopt\" data-toc-modified-id=\"Hyperopt-2\"><span class=\"toc-item-num\">2&nbsp;&nbsp;</span><a href=\"https://github.com/hyperopt/hyperopt\" target=\"_blank\">Hyperopt</a></a></span><ul class=\"toc-item\"><li><span><a href=\"#XGBoost-Tuning\" data-toc-modified-id=\"XGBoost-Tuning-2.1\"><span class=\"toc-item-num\">2.1&nbsp;&nbsp;</span><a href=\"https://www.analyticsvidhya.com/blog/2016/03/complete-guide-parameter-tuning-xgboost-with-codes-python/\" target=\"_blank\">XGBoost Tuning</a></a></span><ul class=\"toc-item\"><li><span><a href=\"#Objective-function\" data-toc-modified-id=\"Objective-function-2.1.1\"><span class=\"toc-item-num\">2.1.1&nbsp;&nbsp;</span>Objective function</a></span></li><li><span><a href=\"#Tune-number-of-trees\" data-toc-modified-id=\"Tune-number-of-trees-2.1.2\"><span class=\"toc-item-num\">2.1.2&nbsp;&nbsp;</span>Tune number of trees</a></span></li><li><span><a href=\"#Tune-tree-specific-parameters\" data-toc-modified-id=\"Tune-tree-specific-parameters-2.1.3\"><span class=\"toc-item-num\">2.1.3&nbsp;&nbsp;</span>Tune tree-specific parameters</a></span><ul class=\"toc-item\"><li><span><a href=\"#Tune-max_depth,-min_child_weight\" data-toc-modified-id=\"Tune-max_depth,-min_child_weight-2.1.3.1\"><span class=\"toc-item-num\">2.1.3.1&nbsp;&nbsp;</span>Tune max_depth, min_child_weight</a></span></li><li><span><a href=\"#Tune-gamma\" data-toc-modified-id=\"Tune-gamma-2.1.3.2\"><span class=\"toc-item-num\">2.1.3.2&nbsp;&nbsp;</span>Tune gamma</a></span></li><li><span><a href=\"#Tune-subsample,-colsample_bytree\" data-toc-modified-id=\"Tune-subsample,-colsample_bytree-2.1.3.3\"><span class=\"toc-item-num\">2.1.3.3&nbsp;&nbsp;</span>Tune subsample, colsample_bytree</a></span></li></ul></li><li><span><a href=\"#Tune-regularization-parameters\" data-toc-modified-id=\"Tune-regularization-parameters-2.1.4\"><span class=\"toc-item-num\">2.1.4&nbsp;&nbsp;</span>Tune regularization parameters</a></span></li><li><span><a href=\"#Lower-the-learning-rate-and-decide-the-optimal-parameters\" data-toc-modified-id=\"Lower-the-learning-rate-and-decide-the-optimal-parameters-2.1.5\"><span class=\"toc-item-num\">2.1.5&nbsp;&nbsp;</span>Lower the learning rate and decide the optimal parameters</a></span></li></ul></li><li><span><a href=\"#LogisticRegression-Tuning\" data-toc-modified-id=\"LogisticRegression-Tuning-2.2\"><span class=\"toc-item-num\">2.2&nbsp;&nbsp;</span>LogisticRegression Tuning</a></span></li><li><span><a href=\"#Optional-MongoTrials\" data-toc-modified-id=\"Optional-MongoTrials-2.3\"><span class=\"toc-item-num\">2.3&nbsp;&nbsp;</span>Optional <a href=\"https://hyperopt.github.io/hyperopt/scaleout/mongodb/\" target=\"_blank\">MongoTrials</a></a></span><ul class=\"toc-item\"><li><span><a href=\"#XGBoost-Tuning\" data-toc-modified-id=\"XGBoost-Tuning-2.3.1\"><span class=\"toc-item-num\">2.3.1&nbsp;&nbsp;</span>XGBoost Tuning</a></span></li></ul></li></ul></li><li><span><a href=\"#Results\" data-toc-modified-id=\"Results-3\"><span class=\"toc-item-num\">3&nbsp;&nbsp;</span>Results</a></span></li></ul></div>"
   ]
  },
  {
   "cell_type": "markdown",
   "metadata": {},
   "source": [
    "Продолжаем работать над задачей CTR-prediction с использованием датасета от Criteo.\n",
    "\n",
    "Описание задачи и данных можно посмотреть в notebook'e предыдущей практики (`sgd_logreg_nn/notebooks/ctr_prediction_mllib.ipynb`)."
   ]
  },
  {
   "cell_type": "code",
   "execution_count": 1,
   "metadata": {},
   "outputs": [],
   "source": [
    "%matplotlib inline\n",
    "%config InlineBackend.figure_format ='retina'\n",
    "\n",
    "import os\n",
    "import sys\n",
    "import glob\n",
    "import pickle\n",
    "import seaborn as sns\n",
    "import matplotlib.pyplot as plt\n",
    "import numpy as np\n",
    "\n",
    "import pyspark\n",
    "import pyspark.sql.functions as F\n",
    "from pyspark.conf import SparkConf\n",
    "from pyspark.sql import SQLContext\n",
    "from pyspark.sql import SparkSession\n",
    "from pyspark.sql import Row\n",
    "\n",
    "COMMON_PATH = '/workspace/common'\n",
    "\n",
    "sys.path.append(os.path.join(COMMON_PATH, 'utils'))\n",
    "\n",
    "os.environ['PYSPARK_SUBMIT_ARGS'] = \"\"\"\n",
    "--jars {common}/xgboost4j-spark-0.72.jar,{common}/xgboost4j-0.72.jar\n",
    "--py-files {common}/sparkxgb.zip pyspark-shell\n",
    "\"\"\".format(common=COMMON_PATH).replace('\\n', ' ')\n",
    "\n",
    "spark = SparkSession \\\n",
    "    .builder \\\n",
    "    .master('local[*]') \\\n",
    "    .appName(\"spark_sql_examples\") \\\n",
    "    .config(\"spark.executor.memory\", \"6g\") \\\n",
    "    .getOrCreate()\n",
    "\n",
    "sc = spark.sparkContext\n",
    "sqlContext = SQLContext(sc)\n",
    "\n",
    "from metrics import rocauc, logloss, ne, get_ate\n",
    "from processing import split_by_col\n",
    "\n",
    "from sparkxgb.xgboost import *"
   ]
  },
  {
   "cell_type": "code",
   "execution_count": 2,
   "metadata": {},
   "outputs": [],
   "source": [
    "DATA_PATH = '/workspace/data/criteo'\n",
    "\n",
    "TRAIN_PATH = os.path.join(DATA_PATH, 'train.csv')"
   ]
  },
  {
   "cell_type": "code",
   "execution_count": 3,
   "metadata": {},
   "outputs": [],
   "source": [
    "df = sqlContext.read.format(\"com.databricks.spark.csv\") \\\n",
    "    .option(\"delimiter\", \",\") \\\n",
    "    .option(\"header\", \"true\") \\\n",
    "    .option(\"inferSchema\", \"true\") \\\n",
    "    .load('file:///' + TRAIN_PATH)"
   ]
  },
  {
   "cell_type": "markdown",
   "metadata": {},
   "source": [
    "**Remark** Необязательно использовать половину датасета и всего две категориальные переменные. Можно использовать больше данных, если вам позволяет ваша конфигурация"
   ]
  },
  {
   "cell_type": "code",
   "execution_count": 4,
   "metadata": {},
   "outputs": [],
   "source": [
    "df = df.sample(False, 0.5)"
   ]
  },
  {
   "cell_type": "code",
   "execution_count": 5,
   "metadata": {},
   "outputs": [
    {
     "data": {
      "text/plain": [
       "(13, 2)"
      ]
     },
     "execution_count": 5,
     "metadata": {},
     "output_type": "execute_result"
    }
   ],
   "source": [
    "num_columns = ['_c{}'.format(i) for i in range(1, 14)]\n",
    "cat_columns = ['_c{}'.format(i) for i in range(14, 40)][:2]\n",
    "len(num_columns), len(cat_columns)"
   ]
  },
  {
   "cell_type": "code",
   "execution_count": 6,
   "metadata": {},
   "outputs": [],
   "source": [
    "df = df.fillna(0, subset=num_columns)"
   ]
  },
  {
   "cell_type": "code",
   "execution_count": 9,
   "metadata": {},
   "outputs": [],
   "source": [
    "from pyspark.ml import PipelineModel\n",
    "\n",
    "PIPELINE_MODEL_PATH = '../../sgd_logreg_nn/notebooks/transforming_pipeline'\n",
    "pipeline_model = PipelineModel.load(PIPELINE_MODEL_PATH)"
   ]
  },
  {
   "cell_type": "code",
   "execution_count": 10,
   "metadata": {},
   "outputs": [
    {
     "data": {
      "text/plain": [
       "1833655"
      ]
     },
     "execution_count": 10,
     "metadata": {},
     "output_type": "execute_result"
    }
   ],
   "source": [
    "df = pipeline_model \\\n",
    "    .transform(df) \\\n",
    "    .select(F.col('_c0').alias('label'), 'features', 'id') \\\n",
    "    .cache()\n",
    "\n",
    "df.count()"
   ]
  },
  {
   "cell_type": "code",
   "execution_count": 11,
   "metadata": {},
   "outputs": [],
   "source": [
    "train_df, val_df, test_df = split_by_col(df, 'id', [0.8, 0.1, 0.1])"
   ]
  },
  {
   "cell_type": "markdown",
   "metadata": {},
   "source": [
    "# [Spark MLlib Tuning](https://spark.apache.org/docs/latest/ml-tuning.html)\n",
    "\n",
    "У имеющегося в Spark'e метода HPO есть два существенных недостатка, которые делают его мало пригодным в контексте нашей задачи:\n",
    "\n",
    "1. `ParamGridBuilder` - поиск по сетке\n",
    "2. `TrainValidationSplit` - делит данные случайнм образом"
   ]
  },
  {
   "cell_type": "code",
   "execution_count": null,
   "metadata": {},
   "outputs": [],
   "source": []
  },
  {
   "cell_type": "markdown",
   "metadata": {},
   "source": [
    "# [Hyperopt](https://github.com/hyperopt/hyperopt)\n",
    "\n",
    "Установим `hyperopt`"
   ]
  },
  {
   "cell_type": "code",
   "execution_count": 12,
   "metadata": {},
   "outputs": [
    {
     "name": "stdout",
     "output_type": "stream",
     "text": [
      "Collecting hyperopt\n",
      "  Downloading hyperopt-0.2.3-py3-none-any.whl (1.9 MB)\n",
      "\u001b[K     |████████████████████████████████| 1.9 MB 1.9 MB/s eta 0:00:01\n",
      "\u001b[?25hRequirement already satisfied: numpy in /usr/lib64/python3.5/site-packages (from hyperopt) (1.17.2)\n",
      "Collecting future\n",
      "  Downloading future-0.18.2.tar.gz (829 kB)\n",
      "\u001b[K     |████████████████████████████████| 829 kB 15.2 MB/s eta 0:00:01\n",
      "\u001b[?25hCollecting networkx==2.2\n",
      "  Downloading networkx-2.2.zip (1.7 MB)\n",
      "\u001b[K     |████████████████████████████████| 1.7 MB 15.4 MB/s eta 0:00:01\n",
      "\u001b[?25hRequirement already satisfied: six in /usr/lib/python3.5/site-packages (from hyperopt) (1.14.0)\n",
      "Collecting cloudpickle\n",
      "  Downloading cloudpickle-1.3.0-py2.py3-none-any.whl (26 kB)\n",
      "Requirement already satisfied: scipy in /usr/lib64/python3.5/site-packages (from hyperopt) (1.3.3)\n",
      "Requirement already satisfied: tqdm in /usr/lib/python3.5/site-packages (from hyperopt) (4.43.0)\n",
      "Requirement already satisfied: decorator>=4.3.0 in /usr/lib/python3.5/site-packages (from networkx==2.2->hyperopt) (4.4.1)\n",
      "Installing collected packages: future, networkx, cloudpickle, hyperopt\n",
      "    Running setup.py install for future ... \u001b[?25ldone\n",
      "\u001b[?25h    Running setup.py install for networkx ... \u001b[?25ldone\n",
      "\u001b[?25hSuccessfully installed cloudpickle-1.3.0 future-0.18.2 hyperopt-0.2.3 networkx-2.2\n"
     ]
    }
   ],
   "source": [
    "!pip3.5 install hyperopt"
   ]
  },
  {
   "cell_type": "markdown",
   "metadata": {},
   "source": [
    "## [XGBoost Tuning](https://www.analyticsvidhya.com/blog/2016/03/complete-guide-parameter-tuning-xgboost-with-codes-python/)\n",
    "\n",
    "> [Notes on Parameter Tuning](https://xgboost.readthedocs.io/en/latest/tutorials/param_tuning.html)\n",
    "\n",
    "### Objective function"
   ]
  },
  {
   "cell_type": "code",
   "execution_count": 80,
   "metadata": {},
   "outputs": [],
   "source": [
    "from hyperopt import fmin, tpe, hp, Trials, STATUS_OK\n",
    "import scipy.stats as st\n",
    "\n",
    "\n",
    "def objective(space):\n",
    "    estimator = XGBoostEstimator(**space)\n",
    "    print('SPACE:', estimator._input_kwargs_processed())\n",
    "    success = False\n",
    "    attempts = 0\n",
    "    model = None\n",
    "    while not success and attempts < 2:\n",
    "        try:\n",
    "            model = estimator.fit(train_df)\n",
    "            success = True\n",
    "        except Exception as e:\n",
    "            attempts += 1\n",
    "            print(e)\n",
    "            print('Try again')\n",
    "        \n",
    "    log_loss = logloss(model, val_df, probabilities_col='probabilities')\n",
    "    roc_auc = rocauc(model, val_df, probabilities_col='probabilities')\n",
    "    \n",
    "    print('LOG-LOSS: {}, ROC-AUC: {}'.format(log_loss, roc_auc))\n",
    "\n",
    "    return {'loss': log_loss, 'rocauc': roc_auc, 'status': STATUS_OK }"
   ]
  },
  {
   "cell_type": "code",
   "execution_count": 14,
   "metadata": {},
   "outputs": [],
   "source": [
    "static_params = {\n",
    "    'featuresCol': \"features\", \n",
    "    'labelCol': \"label\", \n",
    "    'predictionCol': \"prediction\",\n",
    "    'eval_metric': 'logloss',\n",
    "    'objective': 'binary:logistic',\n",
    "    'nthread': 1,\n",
    "    'silent': 0,\n",
    "    'nworkers': 1\n",
    "}"
   ]
  },
  {
   "cell_type": "markdown",
   "metadata": {},
   "source": [
    "Fix baseline parameters and train baseline model"
   ]
  },
  {
   "cell_type": "code",
   "execution_count": 15,
   "metadata": {},
   "outputs": [],
   "source": [
    "CONTROL_NAME = 'xgb baseline'\n",
    "\n",
    "baseline_params = {\n",
    "    'colsample_bytree': 0.9,\n",
    "    'eta': 0.15,\n",
    "    'gamma': 0.9,\n",
    "    'max_depth': 6,\n",
    "    'min_child_weight': 50.0,\n",
    "    'subsample': 0.9,\n",
    "    'num_round': 20\n",
    "}\n",
    "\n",
    "baseline_model = XGBoostEstimator(**{**static_params, **baseline_params}).fit(train_df)"
   ]
  },
  {
   "cell_type": "code",
   "execution_count": 16,
   "metadata": {},
   "outputs": [
    {
     "data": {
      "text/plain": [
       "0.7260253274714449"
      ]
     },
     "execution_count": 16,
     "metadata": {},
     "output_type": "execute_result"
    }
   ],
   "source": [
    "baseline_rocauc = rocauc(baseline_model, val_df, probabilities_col='probabilities')\n",
    "baseline_rocauc"
   ]
  },
  {
   "cell_type": "code",
   "execution_count": 17,
   "metadata": {},
   "outputs": [],
   "source": [
    "all_metrics = {}"
   ]
  },
  {
   "cell_type": "code",
   "execution_count": 18,
   "metadata": {},
   "outputs": [],
   "source": [
    "baseline_test_metrics = {\n",
    "    'logloss': logloss(baseline_model, test_df, probabilities_col='probabilities'),\n",
    "    'rocauc': rocauc(baseline_model, test_df, probabilities_col='probabilities')\n",
    "}\n",
    "\n",
    "all_metrics[CONTROL_NAME] = baseline_test_metrics"
   ]
  },
  {
   "cell_type": "markdown",
   "metadata": {},
   "source": [
    "### Tune number of trees\n",
    "\n",
    "> Choose a relatively high learning rate. Generally a learning rate of 0.1 works but somewhere between 0.05 to 0.3 should work for different problems. Determine the optimum number of trees for this learning rate."
   ]
  },
  {
   "cell_type": "code",
   "execution_count": 19,
   "metadata": {
    "scrolled": true
   },
   "outputs": [
    {
     "name": "stdout",
     "output_type": "stream",
     "text": [
      "SPACE:                                                \n",
      "{'num_round': 40, 'silent': 0, 'predictionCol': 'prediction', 'min_child_weight': 50.0, 'max_depth': 6, 'subsample': 0.9, 'labelCol': 'label', 'objective': 'binary:logistic', 'gamma': 0.9, 'featuresCol': 'features', 'nworkers': 1, 'eta': 0.3, 'colsample_bytree': 0.9, 'nthread': 1, 'eval_metric': 'logloss'}\n",
      "LOG-LOSS: 0.5038699868920585, ROC-AUC: 0.7342957047805975\n",
      "SPACE:                                                                          \n",
      "{'num_round': 100, 'silent': 0, 'predictionCol': 'prediction', 'min_child_weight': 50.0, 'max_depth': 6, 'subsample': 0.9, 'labelCol': 'label', 'objective': 'binary:logistic', 'gamma': 0.9, 'featuresCol': 'features', 'nworkers': 1, 'eta': 0.15, 'colsample_bytree': 0.9, 'nthread': 1, 'eval_metric': 'logloss'}\n",
      "LOG-LOSS: 0.5028733353263354, ROC-AUC: 0.7357985639428266                       \n",
      "SPACE:                                                                          \n",
      "{'num_round': 100, 'silent': 0, 'predictionCol': 'prediction', 'min_child_weight': 50.0, 'max_depth': 6, 'subsample': 0.9, 'labelCol': 'label', 'objective': 'binary:logistic', 'gamma': 0.9, 'featuresCol': 'features', 'nworkers': 1, 'eta': 0.1, 'colsample_bytree': 0.9, 'nthread': 1, 'eval_metric': 'logloss'}\n",
      "LOG-LOSS: 0.5042251601471078, ROC-AUC: 0.7340313409866377                       \n",
      "SPACE:                                                                          \n",
      "{'num_round': 40, 'silent': 0, 'predictionCol': 'prediction', 'min_child_weight': 50.0, 'max_depth': 6, 'subsample': 0.9, 'labelCol': 'label', 'objective': 'binary:logistic', 'gamma': 0.9, 'featuresCol': 'features', 'nworkers': 1, 'eta': 0.3, 'colsample_bytree': 0.9, 'nthread': 1, 'eval_metric': 'logloss'}\n",
      "LOG-LOSS: 0.5038699868920585, ROC-AUC: 0.7342957047806005                       \n",
      "SPACE:                                                                          \n",
      "{'num_round': 10, 'silent': 0, 'predictionCol': 'prediction', 'min_child_weight': 50.0, 'max_depth': 6, 'subsample': 0.9, 'labelCol': 'label', 'objective': 'binary:logistic', 'gamma': 0.9, 'featuresCol': 'features', 'nworkers': 1, 'eta': 0.2, 'colsample_bytree': 0.9, 'nthread': 1, 'eval_metric': 'logloss'}\n",
      "LOG-LOSS: 0.5163113573588606, ROC-AUC: 0.7228830301451146                       \n",
      "SPACE:                                                                          \n",
      "{'num_round': 20, 'silent': 0, 'predictionCol': 'prediction', 'min_child_weight': 50.0, 'max_depth': 6, 'subsample': 0.9, 'labelCol': 'label', 'objective': 'binary:logistic', 'gamma': 0.9, 'featuresCol': 'features', 'nworkers': 1, 'eta': 0.15, 'colsample_bytree': 0.9, 'nthread': 1, 'eval_metric': 'logloss'}\n",
      "LOG-LOSS: 0.5104978457337404, ROC-AUC: 0.7260253274714463                       \n",
      "SPACE:                                                                          \n",
      "{'num_round': 20, 'silent': 0, 'predictionCol': 'prediction', 'min_child_weight': 50.0, 'max_depth': 6, 'subsample': 0.9, 'labelCol': 'label', 'objective': 'binary:logistic', 'gamma': 0.9, 'featuresCol': 'features', 'nworkers': 1, 'eta': 0.3, 'colsample_bytree': 0.9, 'nthread': 1, 'eval_metric': 'logloss'}\n",
      "LOG-LOSS: 0.5066861262705555, ROC-AUC: 0.730573030035736                        \n",
      "SPACE:                                                                          \n",
      "{'num_round': 100, 'silent': 0, 'predictionCol': 'prediction', 'min_child_weight': 50.0, 'max_depth': 6, 'subsample': 0.9, 'labelCol': 'label', 'objective': 'binary:logistic', 'gamma': 0.9, 'featuresCol': 'features', 'nworkers': 1, 'eta': 0.3, 'colsample_bytree': 0.9, 'nthread': 1, 'eval_metric': 'logloss'}\n",
      "LOG-LOSS: 0.5011382280025449, ROC-AUC: 0.7378595320029818                       \n",
      "SPACE:                                                                          \n",
      "{'num_round': 20, 'silent': 0, 'predictionCol': 'prediction', 'min_child_weight': 50.0, 'max_depth': 6, 'subsample': 0.9, 'labelCol': 'label', 'objective': 'binary:logistic', 'gamma': 0.9, 'featuresCol': 'features', 'nworkers': 1, 'eta': 0.2, 'colsample_bytree': 0.9, 'nthread': 1, 'eval_metric': 'logloss'}\n",
      "LOG-LOSS: 0.508328674046439, ROC-AUC: 0.7281139229588195                        \n",
      "SPACE:                                                                          \n",
      "{'num_round': 20, 'silent': 0, 'predictionCol': 'prediction', 'min_child_weight': 50.0, 'max_depth': 6, 'subsample': 0.9, 'labelCol': 'label', 'objective': 'binary:logistic', 'gamma': 0.9, 'featuresCol': 'features', 'nworkers': 1, 'eta': 0.2, 'colsample_bytree': 0.9, 'nthread': 1, 'eval_metric': 'logloss'}\n",
      "LOG-LOSS: 0.508328674046439, ROC-AUC: 0.7281139229588195                        \n",
      "SPACE:                                                                           \n",
      "{'num_round': 20, 'silent': 0, 'predictionCol': 'prediction', 'min_child_weight': 50.0, 'max_depth': 6, 'subsample': 0.9, 'labelCol': 'label', 'objective': 'binary:logistic', 'gamma': 0.9, 'featuresCol': 'features', 'nworkers': 1, 'eta': 0.3, 'colsample_bytree': 0.9, 'nthread': 1, 'eval_metric': 'logloss'}\n",
      "LOG-LOSS: 0.5066861262705555, ROC-AUC: 0.73057303003574                          \n",
      "SPACE:                                                                           \n",
      "{'num_round': 40, 'silent': 0, 'predictionCol': 'prediction', 'min_child_weight': 50.0, 'max_depth': 6, 'subsample': 0.9, 'labelCol': 'label', 'objective': 'binary:logistic', 'gamma': 0.9, 'featuresCol': 'features', 'nworkers': 1, 'eta': 0.3, 'colsample_bytree': 0.9, 'nthread': 1, 'eval_metric': 'logloss'}\n",
      "LOG-LOSS: 0.5038699868920585, ROC-AUC: 0.7342957047806022                        \n",
      "SPACE:                                                                           \n",
      "{'num_round': 20, 'silent': 0, 'predictionCol': 'prediction', 'min_child_weight': 50.0, 'max_depth': 6, 'subsample': 0.9, 'labelCol': 'label', 'objective': 'binary:logistic', 'gamma': 0.9, 'featuresCol': 'features', 'nworkers': 1, 'eta': 0.1, 'colsample_bytree': 0.9, 'nthread': 1, 'eval_metric': 'logloss'}\n",
      "LOG-LOSS: 0.5168921932341644, ROC-AUC: 0.7233885362663847                        \n",
      "SPACE:                                                                           \n",
      "{'num_round': 20, 'silent': 0, 'predictionCol': 'prediction', 'min_child_weight': 50.0, 'max_depth': 6, 'subsample': 0.9, 'labelCol': 'label', 'objective': 'binary:logistic', 'gamma': 0.9, 'featuresCol': 'features', 'nworkers': 1, 'eta': 0.2, 'colsample_bytree': 0.9, 'nthread': 1, 'eval_metric': 'logloss'}\n",
      "LOG-LOSS: 0.508328674046439, ROC-AUC: 0.7281139229588195                         \n",
      "SPACE:                                                                           \n",
      "{'num_round': 20, 'silent': 0, 'predictionCol': 'prediction', 'min_child_weight': 50.0, 'max_depth': 6, 'subsample': 0.9, 'labelCol': 'label', 'objective': 'binary:logistic', 'gamma': 0.9, 'featuresCol': 'features', 'nworkers': 1, 'eta': 0.5, 'colsample_bytree': 0.9, 'nthread': 1, 'eval_metric': 'logloss'}\n",
      "LOG-LOSS: 0.5052319267303703, ROC-AUC: 0.7322435392468529                        \n",
      "SPACE:                                                                           \n",
      "{'num_round': 20, 'silent': 0, 'predictionCol': 'prediction', 'min_child_weight': 50.0, 'max_depth': 6, 'subsample': 0.9, 'labelCol': 'label', 'objective': 'binary:logistic', 'gamma': 0.9, 'featuresCol': 'features', 'nworkers': 1, 'eta': 0.1, 'colsample_bytree': 0.9, 'nthread': 1, 'eval_metric': 'logloss'}\n",
      "LOG-LOSS: 0.5168921932341644, ROC-AUC: 0.7233885362663834                        \n",
      "SPACE:                                                                           \n",
      "{'num_round': 10, 'silent': 0, 'predictionCol': 'prediction', 'min_child_weight': 50.0, 'max_depth': 6, 'subsample': 0.9, 'labelCol': 'label', 'objective': 'binary:logistic', 'gamma': 0.9, 'featuresCol': 'features', 'nworkers': 1, 'eta': 0.1, 'colsample_bytree': 0.9, 'nthread': 1, 'eval_metric': 'logloss'}\n",
      "LOG-LOSS: 0.5440584932704939, ROC-AUC: 0.7197264460973978                        \n",
      "SPACE:                                                                           \n",
      "{'num_round': 20, 'silent': 0, 'predictionCol': 'prediction', 'min_child_weight': 50.0, 'max_depth': 6, 'subsample': 0.9, 'labelCol': 'label', 'objective': 'binary:logistic', 'gamma': 0.9, 'featuresCol': 'features', 'nworkers': 1, 'eta': 0.15, 'colsample_bytree': 0.9, 'nthread': 1, 'eval_metric': 'logloss'}\n"
     ]
    },
    {
     "name": "stdout",
     "output_type": "stream",
     "text": [
      "LOG-LOSS: 0.5104978457337404, ROC-AUC: 0.7260253274714473                        \n",
      "SPACE:                                                                           \n",
      "{'num_round': 40, 'silent': 0, 'predictionCol': 'prediction', 'min_child_weight': 50.0, 'max_depth': 6, 'subsample': 0.9, 'labelCol': 'label', 'objective': 'binary:logistic', 'gamma': 0.9, 'featuresCol': 'features', 'nworkers': 1, 'eta': 0.5, 'colsample_bytree': 0.9, 'nthread': 1, 'eval_metric': 'logloss'}\n",
      "LOG-LOSS: 0.503105960714235, ROC-AUC: 0.7351260251276981                         \n",
      "SPACE:                                                                           \n",
      "{'num_round': 20, 'silent': 0, 'predictionCol': 'prediction', 'min_child_weight': 50.0, 'max_depth': 6, 'subsample': 0.9, 'labelCol': 'label', 'objective': 'binary:logistic', 'gamma': 0.9, 'featuresCol': 'features', 'nworkers': 1, 'eta': 0.15, 'colsample_bytree': 0.9, 'nthread': 1, 'eval_metric': 'logloss'}\n",
      "LOG-LOSS: 0.5104978457337404, ROC-AUC: 0.7260253274714472                        \n",
      "100%|██████████| 20/20 [19:26<00:00, 58.34s/trial, best loss: 0.5011382280025449]\n",
      "CPU times: user 2.59 s, sys: 496 ms, total: 3.09 s\n",
      "Wall time: 19min 26s\n"
     ]
    }
   ],
   "source": [
    "%%time\n",
    "\n",
    "num_round_choice = [10, 20, 40, 100]\n",
    "eta_choice = [0.5, 0.10, 0.15, 0.20, 0.30]\n",
    "\n",
    "space = {\n",
    "    # Optimize\n",
    "    'num_round': hp.choice('num_round', num_round_choice),\n",
    "    'eta': hp.choice('eta', eta_choice),\n",
    "    \n",
    "    # Fixed    \n",
    "    'max_depth': baseline_params['max_depth'],\n",
    "    'min_child_weight': baseline_params['min_child_weight'],\n",
    "    'subsample': baseline_params['subsample'],\n",
    "    'gamma': baseline_params['gamma'],\n",
    "    'colsample_bytree': baseline_params['colsample_bytree'],\n",
    "    \n",
    "    **static_params\n",
    "}\n",
    "\n",
    "\n",
    "trials = Trials()\n",
    "best = fmin(fn=objective,\n",
    "            space=space,\n",
    "            algo=tpe.suggest,\n",
    "            max_evals=20,\n",
    "            trials=trials)"
   ]
  },
  {
   "cell_type": "code",
   "execution_count": 20,
   "metadata": {},
   "outputs": [
    {
     "data": {
      "text/plain": [
       "{'eta': 4, 'num_round': 3}"
      ]
     },
     "execution_count": 20,
     "metadata": {},
     "output_type": "execute_result"
    }
   ],
   "source": [
    "best"
   ]
  },
  {
   "cell_type": "markdown",
   "metadata": {},
   "source": [
    "Обратите внимание на то, что в случае с `hp.choice` в переменной `best` хранится не конкретное значение гиперпараметра, а его индекс из списка, например, `num_round_choice`"
   ]
  },
  {
   "cell_type": "code",
   "execution_count": 23,
   "metadata": {},
   "outputs": [
    {
     "data": {
      "text/plain": [
       "(0.3, 100)"
      ]
     },
     "execution_count": 23,
     "metadata": {},
     "output_type": "execute_result"
    }
   ],
   "source": [
    "eta = eta_choice[best['eta']]  # change me!\n",
    "num_round = num_round_choice[best['num_round']]  # change me!\n",
    "eta, num_round"
   ]
  },
  {
   "cell_type": "code",
   "execution_count": 24,
   "metadata": {},
   "outputs": [
    {
     "data": {
      "text/plain": [
       "{'colsample_bytree': 0.9,\n",
       " 'eta': <hyperopt.pyll.base.Apply at 0x7ffb5c9416a0>,\n",
       " 'eval_metric': 'logloss',\n",
       " 'featuresCol': 'features',\n",
       " 'gamma': 0.9,\n",
       " 'labelCol': 'label',\n",
       " 'max_depth': 6,\n",
       " 'min_child_weight': 50.0,\n",
       " 'nthread': 1,\n",
       " 'num_round': <hyperopt.pyll.base.Apply at 0x7ffb5b68f860>,\n",
       " 'nworkers': 1,\n",
       " 'objective': 'binary:logistic',\n",
       " 'predictionCol': 'prediction',\n",
       " 'silent': 0,\n",
       " 'subsample': 0.9}"
      ]
     },
     "execution_count": 24,
     "metadata": {},
     "output_type": "execute_result"
    }
   ],
   "source": [
    "space"
   ]
  },
  {
   "cell_type": "code",
   "execution_count": 26,
   "metadata": {},
   "outputs": [
    {
     "data": {
      "text/plain": [
       "{'colsample_bytree': 0.9,\n",
       " 'eta': 0.3,\n",
       " 'eval_metric': 'logloss',\n",
       " 'featuresCol': 'features',\n",
       " 'gamma': 0.9,\n",
       " 'labelCol': 'label',\n",
       " 'max_depth': 6,\n",
       " 'min_child_weight': 50.0,\n",
       " 'nthread': 1,\n",
       " 'num_round': 100,\n",
       " 'nworkers': 1,\n",
       " 'objective': 'binary:logistic',\n",
       " 'predictionCol': 'prediction',\n",
       " 'silent': 0,\n",
       " 'subsample': 0.9}"
      ]
     },
     "execution_count": 26,
     "metadata": {},
     "output_type": "execute_result"
    }
   ],
   "source": [
    "space['eta'] = eta\n",
    "space['num_round'] = num_round\n",
    "space"
   ]
  },
  {
   "cell_type": "code",
   "execution_count": 28,
   "metadata": {},
   "outputs": [
    {
     "data": {
      "text/plain": [
       "0.7383147008900963"
      ]
     },
     "execution_count": 28,
     "metadata": {},
     "output_type": "execute_result"
    }
   ],
   "source": [
    "model_2 = XGBoostEstimator(**space).fit(train_df)\n",
    "rocauc(model_2, test_df, probabilities_col='probabilities')"
   ]
  },
  {
   "cell_type": "code",
   "execution_count": 30,
   "metadata": {},
   "outputs": [
    {
     "data": {
      "text/plain": [
       "{'logloss': 0.5042670249156437, 'rocauc': 0.7383147008900977}"
      ]
     },
     "execution_count": 30,
     "metadata": {},
     "output_type": "execute_result"
    }
   ],
   "source": [
    "all_metrics['model_2'] = {\n",
    "    'logloss': logloss(model_2, test_df, probabilities_col='probabilities'),\n",
    "    'rocauc' :  rocauc(model_2, test_df, probabilities_col='probabilities')\n",
    "}\n",
    "all_metrics['model_2']"
   ]
  },
  {
   "cell_type": "markdown",
   "metadata": {},
   "source": [
    "### Tune tree-specific parameters\n",
    "\n",
    "> Tune tree-specific parameters ( max_depth, min_child_weight, gamma, subsample, colsample_bytree) for decided learning rate and number of trees. Note that we can choose different parameters to define a tree and I’ll take up an example here."
   ]
  },
  {
   "cell_type": "markdown",
   "metadata": {},
   "source": [
    "#### Tune max_depth, min_child_weight"
   ]
  },
  {
   "cell_type": "code",
   "execution_count": 31,
   "metadata": {},
   "outputs": [
    {
     "name": "stdout",
     "output_type": "stream",
     "text": [
      "SPACE:                                                \n",
      "{'num_round': 100, 'silent': 0, 'predictionCol': 'prediction', 'min_child_weight': 20.0, 'max_depth': 8, 'subsample': 0.9, 'labelCol': 'label', 'objective': 'binary:logistic', 'gamma': 0.9, 'featuresCol': 'features', 'nworkers': 1, 'eta': 0.3, 'colsample_bytree': 0.9, 'nthread': 1, 'eval_metric': 'logloss'}\n",
      "LOG-LOSS: 0.5001364242111265, ROC-AUC: 0.7392419353176597\n",
      "SPACE:                                                                           \n",
      "{'num_round': 100, 'silent': 0, 'predictionCol': 'prediction', 'min_child_weight': 50.0, 'max_depth': 6, 'subsample': 0.9, 'labelCol': 'label', 'objective': 'binary:logistic', 'gamma': 0.9, 'featuresCol': 'features', 'nworkers': 1, 'eta': 0.3, 'colsample_bytree': 0.9, 'nthread': 1, 'eval_metric': 'logloss'}\n",
      "LOG-LOSS: 0.5011382280025449, ROC-AUC: 0.7378595320029839                        \n",
      "SPACE:                                                                           \n",
      "{'num_round': 100, 'silent': 0, 'predictionCol': 'prediction', 'min_child_weight': 35.0, 'max_depth': 8, 'subsample': 0.9, 'labelCol': 'label', 'objective': 'binary:logistic', 'gamma': 0.9, 'featuresCol': 'features', 'nworkers': 1, 'eta': 0.3, 'colsample_bytree': 0.9, 'nthread': 1, 'eval_metric': 'logloss'}\n",
      "LOG-LOSS: 0.500086209756745, ROC-AUC: 0.7393639921916024                         \n",
      "SPACE:                                                                           \n",
      "{'num_round': 100, 'silent': 0, 'predictionCol': 'prediction', 'min_child_weight': 100.0, 'max_depth': 8, 'subsample': 0.9, 'labelCol': 'label', 'objective': 'binary:logistic', 'gamma': 0.9, 'featuresCol': 'features', 'nworkers': 1, 'eta': 0.3, 'colsample_bytree': 0.9, 'nthread': 1, 'eval_metric': 'logloss'}\n",
      "LOG-LOSS: 0.5001500163182887, ROC-AUC: 0.7391640793548302                       \n",
      "SPACE:                                                                          \n",
      "{'num_round': 100, 'silent': 0, 'predictionCol': 'prediction', 'min_child_weight': 100.0, 'max_depth': 12, 'subsample': 0.9, 'labelCol': 'label', 'objective': 'binary:logistic', 'gamma': 0.9, 'featuresCol': 'features', 'nworkers': 1, 'eta': 0.3, 'colsample_bytree': 0.9, 'nthread': 1, 'eval_metric': 'logloss'}\n",
      "LOG-LOSS: 0.49956413296059093, ROC-AUC: 0.739786562743256                       \n",
      "SPACE:                                                                            \n",
      "{'num_round': 100, 'silent': 0, 'predictionCol': 'prediction', 'min_child_weight': 20.0, 'max_depth': 5, 'subsample': 0.9, 'labelCol': 'label', 'objective': 'binary:logistic', 'gamma': 0.9, 'featuresCol': 'features', 'nworkers': 1, 'eta': 0.3, 'colsample_bytree': 0.9, 'nthread': 1, 'eval_metric': 'logloss'}\n",
      "LOG-LOSS: 0.5023386332134535, ROC-AUC: 0.7361491231904991                         \n",
      "SPACE:                                                                            \n",
      "{'num_round': 100, 'silent': 0, 'predictionCol': 'prediction', 'min_child_weight': 20.0, 'max_depth': 8, 'subsample': 0.9, 'labelCol': 'label', 'objective': 'binary:logistic', 'gamma': 0.9, 'featuresCol': 'features', 'nworkers': 1, 'eta': 0.3, 'colsample_bytree': 0.9, 'nthread': 1, 'eval_metric': 'logloss'}\n",
      "LOG-LOSS: 0.5001364242111265, ROC-AUC: 0.7392419353176521                         \n",
      "SPACE:                                                                            \n",
      "{'num_round': 100, 'silent': 0, 'predictionCol': 'prediction', 'min_child_weight': 20.0, 'max_depth': 8, 'subsample': 0.9, 'labelCol': 'label', 'objective': 'binary:logistic', 'gamma': 0.9, 'featuresCol': 'features', 'nworkers': 1, 'eta': 0.3, 'colsample_bytree': 0.9, 'nthread': 1, 'eval_metric': 'logloss'}\n",
      "LOG-LOSS: 0.5001364242111265, ROC-AUC: 0.7392419353176514                         \n",
      "SPACE:                                                                            \n",
      "{'num_round': 100, 'silent': 0, 'predictionCol': 'prediction', 'min_child_weight': 75.0, 'max_depth': 10, 'subsample': 0.9, 'labelCol': 'label', 'objective': 'binary:logistic', 'gamma': 0.9, 'featuresCol': 'features', 'nworkers': 1, 'eta': 0.3, 'colsample_bytree': 0.9, 'nthread': 1, 'eval_metric': 'logloss'}\n",
      "LOG-LOSS: 0.49966885675166267, ROC-AUC: 0.7397231704610076                        \n",
      "SPACE:                                                                            \n",
      "{'num_round': 100, 'silent': 0, 'predictionCol': 'prediction', 'min_child_weight': 35.0, 'max_depth': 12, 'subsample': 0.9, 'labelCol': 'label', 'objective': 'binary:logistic', 'gamma': 0.9, 'featuresCol': 'features', 'nworkers': 1, 'eta': 0.3, 'colsample_bytree': 0.9, 'nthread': 1, 'eval_metric': 'logloss'}\n",
      "LOG-LOSS: 0.5001568309898758, ROC-AUC: 0.7387700904085447                         \n",
      "SPACE:                                                                             \n",
      "{'num_round': 100, 'silent': 0, 'predictionCol': 'prediction', 'min_child_weight': 35.0, 'max_depth': 8, 'subsample': 0.9, 'labelCol': 'label', 'objective': 'binary:logistic', 'gamma': 0.9, 'featuresCol': 'features', 'nworkers': 1, 'eta': 0.3, 'colsample_bytree': 0.9, 'nthread': 1, 'eval_metric': 'logloss'}\n",
      "LOG-LOSS: 0.500086209756745, ROC-AUC: 0.739363992191603                            \n",
      "SPACE:                                                                             \n",
      "{'num_round': 100, 'silent': 0, 'predictionCol': 'prediction', 'min_child_weight': 50.0, 'max_depth': 10, 'subsample': 0.9, 'labelCol': 'label', 'objective': 'binary:logistic', 'gamma': 0.9, 'featuresCol': 'features', 'nworkers': 1, 'eta': 0.3, 'colsample_bytree': 0.9, 'nthread': 1, 'eval_metric': 'logloss'}\n",
      "LOG-LOSS: 0.4997265111283162, ROC-AUC: 0.7395481977050516                          \n",
      "SPACE:                                                                             \n",
      "{'num_round': 100, 'silent': 0, 'predictionCol': 'prediction', 'min_child_weight': 50.0, 'max_depth': 12, 'subsample': 0.9, 'labelCol': 'label', 'objective': 'binary:logistic', 'gamma': 0.9, 'featuresCol': 'features', 'nworkers': 1, 'eta': 0.3, 'colsample_bytree': 0.9, 'nthread': 1, 'eval_metric': 'logloss'}\n",
      "LOG-LOSS: 0.4999426497225529, ROC-AUC: 0.739120659512955                           \n",
      "SPACE:                                                                             \n",
      "{'num_round': 100, 'silent': 0, 'predictionCol': 'prediction', 'min_child_weight': 20.0, 'max_depth': 10, 'subsample': 0.9, 'labelCol': 'label', 'objective': 'binary:logistic', 'gamma': 0.9, 'featuresCol': 'features', 'nworkers': 1, 'eta': 0.3, 'colsample_bytree': 0.9, 'nthread': 1, 'eval_metric': 'logloss'}\n",
      "LOG-LOSS: 0.500250869612076, ROC-AUC: 0.7387333324104557                           \n",
      "SPACE:                                                                             \n",
      "{'num_round': 100, 'silent': 0, 'predictionCol': 'prediction', 'min_child_weight': 50.0, 'max_depth': 12, 'subsample': 0.9, 'labelCol': 'label', 'objective': 'binary:logistic', 'gamma': 0.9, 'featuresCol': 'features', 'nworkers': 1, 'eta': 0.3, 'colsample_bytree': 0.9, 'nthread': 1, 'eval_metric': 'logloss'}\n",
      "LOG-LOSS: 0.4999426497225529, ROC-AUC: 0.7391206595129555                          \n",
      "SPACE:                                                                             \n",
      "{'num_round': 100, 'silent': 0, 'predictionCol': 'prediction', 'min_child_weight': 75.0, 'max_depth': 12, 'subsample': 0.9, 'labelCol': 'label', 'objective': 'binary:logistic', 'gamma': 0.9, 'featuresCol': 'features', 'nworkers': 1, 'eta': 0.3, 'colsample_bytree': 0.9, 'nthread': 1, 'eval_metric': 'logloss'}\n",
      "LOG-LOSS: 0.4999643407176975, ROC-AUC: 0.7391917361982359                          \n",
      "SPACE:                                                                             \n",
      "{'num_round': 100, 'silent': 0, 'predictionCol': 'prediction', 'min_child_weight': 20.0, 'max_depth': 5, 'subsample': 0.9, 'labelCol': 'label', 'objective': 'binary:logistic', 'gamma': 0.9, 'featuresCol': 'features', 'nworkers': 1, 'eta': 0.3, 'colsample_bytree': 0.9, 'nthread': 1, 'eval_metric': 'logloss'}\n",
      "LOG-LOSS: 0.5023386332134535, ROC-AUC: 0.7361491231904992                          \n",
      "SPACE:                                                                             \n"
     ]
    },
    {
     "name": "stdout",
     "output_type": "stream",
     "text": [
      "{'num_round': 100, 'silent': 0, 'predictionCol': 'prediction', 'min_child_weight': 75.0, 'max_depth': 8, 'subsample': 0.9, 'labelCol': 'label', 'objective': 'binary:logistic', 'gamma': 0.9, 'featuresCol': 'features', 'nworkers': 1, 'eta': 0.3, 'colsample_bytree': 0.9, 'nthread': 1, 'eval_metric': 'logloss'}\n",
      "LOG-LOSS: 0.499834150388143, ROC-AUC: 0.739598595730302                            \n",
      "SPACE:                                                                             \n",
      "{'num_round': 100, 'silent': 0, 'predictionCol': 'prediction', 'min_child_weight': 35.0, 'max_depth': 6, 'subsample': 0.9, 'labelCol': 'label', 'objective': 'binary:logistic', 'gamma': 0.9, 'featuresCol': 'features', 'nworkers': 1, 'eta': 0.3, 'colsample_bytree': 0.9, 'nthread': 1, 'eval_metric': 'logloss'}\n",
      "LOG-LOSS: 0.500928483339883, ROC-AUC: 0.7382149989036276                           \n",
      "SPACE:                                                                             \n",
      "{'num_round': 100, 'silent': 0, 'predictionCol': 'prediction', 'min_child_weight': 100.0, 'max_depth': 10, 'subsample': 0.9, 'labelCol': 'label', 'objective': 'binary:logistic', 'gamma': 0.9, 'featuresCol': 'features', 'nworkers': 1, 'eta': 0.3, 'colsample_bytree': 0.9, 'nthread': 1, 'eval_metric': 'logloss'}\n",
      "LOG-LOSS: 0.49951026092449197, ROC-AUC: 0.739967806153821                          \n",
      "100%|██████████| 20/20 [58:37<00:00, 175.90s/trial, best loss: 0.49951026092449197]\n"
     ]
    }
   ],
   "source": [
    "max_depth_choice        = [5,   6,    8,  10,  12]\n",
    "min_child_weight_choice = [20., 35., 50., 75., 100.]\n",
    "\n",
    "space['max_depth']        = hp.choice('max_depth',        max_depth_choice)\n",
    "space['min_child_weight'] = hp.choice('min_child_weight', min_child_weight_choice)\n",
    "\n",
    "trials = Trials()\n",
    "best = fmin(fn=objective,\n",
    "            space=space,\n",
    "            algo=tpe.suggest,\n",
    "            max_evals=20,\n",
    "            trials=trials)"
   ]
  },
  {
   "cell_type": "code",
   "execution_count": 32,
   "metadata": {},
   "outputs": [
    {
     "data": {
      "text/plain": [
       "{'max_depth': 3, 'min_child_weight': 4}"
      ]
     },
     "execution_count": 32,
     "metadata": {},
     "output_type": "execute_result"
    }
   ],
   "source": [
    "best"
   ]
  },
  {
   "cell_type": "code",
   "execution_count": 33,
   "metadata": {},
   "outputs": [],
   "source": [
    "max_depth        = max_depth_choice[best['max_depth']]\n",
    "min_child_weight = min_child_weight_choice[best['min_child_weight']]"
   ]
  },
  {
   "cell_type": "code",
   "execution_count": 34,
   "metadata": {},
   "outputs": [
    {
     "data": {
      "text/plain": [
       "{'colsample_bytree': 0.9,\n",
       " 'eta': 0.3,\n",
       " 'eval_metric': 'logloss',\n",
       " 'featuresCol': 'features',\n",
       " 'gamma': 0.9,\n",
       " 'labelCol': 'label',\n",
       " 'max_depth': <hyperopt.pyll.base.Apply at 0x7ffb5b612208>,\n",
       " 'min_child_weight': <hyperopt.pyll.base.Apply at 0x7ffb5b564780>,\n",
       " 'nthread': 1,\n",
       " 'num_round': 100,\n",
       " 'nworkers': 1,\n",
       " 'objective': 'binary:logistic',\n",
       " 'predictionCol': 'prediction',\n",
       " 'silent': 0,\n",
       " 'subsample': 0.9}"
      ]
     },
     "execution_count": 34,
     "metadata": {},
     "output_type": "execute_result"
    }
   ],
   "source": [
    "space"
   ]
  },
  {
   "cell_type": "code",
   "execution_count": 40,
   "metadata": {},
   "outputs": [
    {
     "data": {
      "text/plain": [
       "{'colsample_bytree': 0.9,\n",
       " 'eta': 0.3,\n",
       " 'eval_metric': 'logloss',\n",
       " 'featuresCol': 'features',\n",
       " 'gamma': 0.9,\n",
       " 'labelCol': 'label',\n",
       " 'max_depth': 10,\n",
       " 'min_child_weight': 100.0,\n",
       " 'nthread': 1,\n",
       " 'num_round': 100,\n",
       " 'nworkers': 1,\n",
       " 'objective': 'binary:logistic',\n",
       " 'predictionCol': 'prediction',\n",
       " 'silent': 0,\n",
       " 'subsample': 0.9}"
      ]
     },
     "execution_count": 40,
     "metadata": {},
     "output_type": "execute_result"
    }
   ],
   "source": [
    "space['max_depth']        = max_depth\n",
    "space['min_child_weight'] = min_child_weight\n",
    "space"
   ]
  },
  {
   "cell_type": "code",
   "execution_count": 41,
   "metadata": {},
   "outputs": [
    {
     "data": {
      "text/plain": [
       "{'logloss': 0.5028366702156377, 'rocauc': 0.7398397571705004}"
      ]
     },
     "execution_count": 41,
     "metadata": {},
     "output_type": "execute_result"
    }
   ],
   "source": [
    "model_3 = XGBoostEstimator(**space).fit(train_df)\n",
    "\n",
    "all_metrics['model_3'] = {\n",
    "    'logloss': logloss(model_3, test_df, probabilities_col='probabilities'),\n",
    "    'rocauc' :  rocauc(model_3, test_df, probabilities_col='probabilities')\n",
    "}\n",
    "all_metrics['model_3']"
   ]
  },
  {
   "cell_type": "markdown",
   "metadata": {},
   "source": [
    "#### Tune gamma"
   ]
  },
  {
   "cell_type": "code",
   "execution_count": 44,
   "metadata": {},
   "outputs": [
    {
     "name": "stdout",
     "output_type": "stream",
     "text": [
      "SPACE:                                               \n",
      "{'num_round': 100, 'silent': 0, 'predictionCol': 'prediction', 'min_child_weight': 100.0, 'max_depth': 10, 'subsample': 0.9, 'labelCol': 'label', 'objective': 'binary:logistic', 'gamma': 0.95, 'featuresCol': 'features', 'nworkers': 1, 'eta': 0.3, 'colsample_bytree': 0.9, 'nthread': 1, 'eval_metric': 'logloss'}\n",
      "LOG-LOSS: 0.4996699093773705, ROC-AUC: 0.7395581316768496\n",
      "SPACE:                                                                          \n",
      "{'num_round': 100, 'silent': 0, 'predictionCol': 'prediction', 'min_child_weight': 100.0, 'max_depth': 10, 'subsample': 0.9, 'labelCol': 'label', 'objective': 'binary:logistic', 'gamma': 0.7, 'featuresCol': 'features', 'nworkers': 1, 'eta': 0.3, 'colsample_bytree': 0.9, 'nthread': 1, 'eval_metric': 'logloss'}\n",
      "LOG-LOSS: 0.4996612091134824, ROC-AUC: 0.7396993673699801                       \n",
      "SPACE:                                                                          \n",
      "{'num_round': 100, 'silent': 0, 'predictionCol': 'prediction', 'min_child_weight': 100.0, 'max_depth': 10, 'subsample': 0.9, 'labelCol': 'label', 'objective': 'binary:logistic', 'gamma': 0.85, 'featuresCol': 'features', 'nworkers': 1, 'eta': 0.3, 'colsample_bytree': 0.9, 'nthread': 1, 'eval_metric': 'logloss'}\n",
      "LOG-LOSS: 0.4997490173071034, ROC-AUC: 0.7394847247207907                       \n",
      "SPACE:                                                                          \n",
      "{'num_round': 100, 'silent': 0, 'predictionCol': 'prediction', 'min_child_weight': 100.0, 'max_depth': 10, 'subsample': 0.9, 'labelCol': 'label', 'objective': 'binary:logistic', 'gamma': 0.9, 'featuresCol': 'features', 'nworkers': 1, 'eta': 0.3, 'colsample_bytree': 0.9, 'nthread': 1, 'eval_metric': 'logloss'}\n",
      "LOG-LOSS: 0.49951026092449197, ROC-AUC: 0.7399678061538171                      \n",
      "SPACE:                                                                           \n",
      "{'num_round': 100, 'silent': 0, 'predictionCol': 'prediction', 'min_child_weight': 100.0, 'max_depth': 10, 'subsample': 0.9, 'labelCol': 'label', 'objective': 'binary:logistic', 'gamma': 0.8, 'featuresCol': 'features', 'nworkers': 1, 'eta': 0.3, 'colsample_bytree': 0.9, 'nthread': 1, 'eval_metric': 'logloss'}\n",
      "LOG-LOSS: 0.4995400906003794, ROC-AUC: 0.7398937047599831                        \n",
      "100%|██████████| 5/5 [16:54<00:00, 202.86s/trial, best loss: 0.49951026092449197]\n"
     ]
    }
   ],
   "source": [
    "gamma_choice = [0.7, 0.8, 0.85, 0.9, 0.95]\n",
    "\n",
    "space['gamma'] = hp.choice('gamma', gamma_choice)\n",
    "\n",
    "trials = Trials()\n",
    "best = fmin(fn=objective,\n",
    "            space=space,\n",
    "            algo=tpe.suggest,\n",
    "            max_evals=5,\n",
    "            trials=trials)"
   ]
  },
  {
   "cell_type": "code",
   "execution_count": 45,
   "metadata": {},
   "outputs": [
    {
     "data": {
      "text/plain": [
       "{'gamma': 3}"
      ]
     },
     "execution_count": 45,
     "metadata": {},
     "output_type": "execute_result"
    }
   ],
   "source": [
    "best"
   ]
  },
  {
   "cell_type": "code",
   "execution_count": 46,
   "metadata": {},
   "outputs": [
    {
     "data": {
      "text/plain": [
       "0.9"
      ]
     },
     "execution_count": 46,
     "metadata": {},
     "output_type": "execute_result"
    }
   ],
   "source": [
    "gamma = gamma_choice[best['gamma']]\n",
    "gamma"
   ]
  },
  {
   "cell_type": "code",
   "execution_count": 47,
   "metadata": {},
   "outputs": [
    {
     "data": {
      "text/plain": [
       "{'colsample_bytree': 0.9,\n",
       " 'eta': 0.3,\n",
       " 'eval_metric': 'logloss',\n",
       " 'featuresCol': 'features',\n",
       " 'gamma': 0.9,\n",
       " 'labelCol': 'label',\n",
       " 'max_depth': 10,\n",
       " 'min_child_weight': 100.0,\n",
       " 'nthread': 1,\n",
       " 'num_round': 100,\n",
       " 'nworkers': 1,\n",
       " 'objective': 'binary:logistic',\n",
       " 'predictionCol': 'prediction',\n",
       " 'silent': 0,\n",
       " 'subsample': 0.9}"
      ]
     },
     "execution_count": 47,
     "metadata": {},
     "output_type": "execute_result"
    }
   ],
   "source": [
    "space['gamma'] = gamma\n",
    "space"
   ]
  },
  {
   "cell_type": "code",
   "execution_count": 48,
   "metadata": {},
   "outputs": [
    {
     "data": {
      "text/plain": [
       "{'logloss': 0.5028366702156377, 'rocauc': 0.7398397571705}"
      ]
     },
     "execution_count": 48,
     "metadata": {},
     "output_type": "execute_result"
    }
   ],
   "source": [
    "model_4 = XGBoostEstimator(**space).fit(train_df)\n",
    "\n",
    "all_metrics['model_4'] = {\n",
    "    'logloss': logloss(model_4, test_df, probabilities_col='probabilities'),\n",
    "    'rocauc' :  rocauc(model_4, test_df, probabilities_col='probabilities')\n",
    "}\n",
    "all_metrics['model_4']"
   ]
  },
  {
   "cell_type": "markdown",
   "metadata": {},
   "source": [
    "#### Tune subsample, colsample_bytree"
   ]
  },
  {
   "cell_type": "code",
   "execution_count": 49,
   "metadata": {},
   "outputs": [
    {
     "name": "stdout",
     "output_type": "stream",
     "text": [
      "SPACE:                                                \n",
      "{'num_round': 100, 'silent': 0, 'predictionCol': 'prediction', 'min_child_weight': 100.0, 'max_depth': 10, 'subsample': 0.8, 'labelCol': 'label', 'objective': 'binary:logistic', 'gamma': 0.9, 'featuresCol': 'features', 'nworkers': 1, 'eta': 0.3, 'colsample_bytree': 0.7, 'nthread': 1, 'eval_metric': 'logloss'}\n",
      "LOG-LOSS: 0.49945962149383016, ROC-AUC: 0.7399387722167209\n",
      "SPACE:                                                                            \n",
      "{'num_round': 100, 'silent': 0, 'predictionCol': 'prediction', 'min_child_weight': 100.0, 'max_depth': 10, 'subsample': 0.6, 'labelCol': 'label', 'objective': 'binary:logistic', 'gamma': 0.9, 'featuresCol': 'features', 'nworkers': 1, 'eta': 0.3, 'colsample_bytree': 0.9, 'nthread': 1, 'eval_metric': 'logloss'}\n",
      "LOG-LOSS: 0.4999414094641043, ROC-AUC: 0.7390897290014236                         \n",
      "SPACE:                                                                            \n",
      "{'num_round': 100, 'silent': 0, 'predictionCol': 'prediction', 'min_child_weight': 100.0, 'max_depth': 10, 'subsample': 0.9, 'labelCol': 'label', 'objective': 'binary:logistic', 'gamma': 0.9, 'featuresCol': 'features', 'nworkers': 1, 'eta': 0.3, 'colsample_bytree': 0.7, 'nthread': 1, 'eval_metric': 'logloss'}\n",
      "LOG-LOSS: 0.4995141142733402, ROC-AUC: 0.7400755190141124                         \n",
      "SPACE:                                                                            \n",
      "{'num_round': 100, 'silent': 0, 'predictionCol': 'prediction', 'min_child_weight': 100.0, 'max_depth': 10, 'subsample': 0.9, 'labelCol': 'label', 'objective': 'binary:logistic', 'gamma': 0.9, 'featuresCol': 'features', 'nworkers': 1, 'eta': 0.3, 'colsample_bytree': 0.9, 'nthread': 1, 'eval_metric': 'logloss'}\n",
      "LOG-LOSS: 0.49951026092449197, ROC-AUC: 0.739967806153816                         \n",
      "SPACE:                                                                            \n",
      "{'num_round': 100, 'silent': 0, 'predictionCol': 'prediction', 'min_child_weight': 100.0, 'max_depth': 10, 'subsample': 0.7, 'labelCol': 'label', 'objective': 'binary:logistic', 'gamma': 0.9, 'featuresCol': 'features', 'nworkers': 1, 'eta': 0.3, 'colsample_bytree': 0.7, 'nthread': 1, 'eval_metric': 'logloss'}\n",
      "LOG-LOSS: 0.49952656794395195, ROC-AUC: 0.739974906083273                         \n",
      "SPACE:                                                                            \n",
      "{'num_round': 100, 'silent': 0, 'predictionCol': 'prediction', 'min_child_weight': 100.0, 'max_depth': 10, 'subsample': 0.8, 'labelCol': 'label', 'objective': 'binary:logistic', 'gamma': 0.9, 'featuresCol': 'features', 'nworkers': 1, 'eta': 0.3, 'colsample_bytree': 0.8, 'nthread': 1, 'eval_metric': 'logloss'}\n",
      "LOG-LOSS: 0.49944870443964895, ROC-AUC: 0.7398850091175354                        \n",
      "SPACE:                                                                            \n",
      "{'num_round': 100, 'silent': 0, 'predictionCol': 'prediction', 'min_child_weight': 100.0, 'max_depth': 10, 'subsample': 0.7, 'labelCol': 'label', 'objective': 'binary:logistic', 'gamma': 0.9, 'featuresCol': 'features', 'nworkers': 1, 'eta': 0.3, 'colsample_bytree': 0.9, 'nthread': 1, 'eval_metric': 'logloss'}\n",
      "LOG-LOSS: 0.49959204842012445, ROC-AUC: 0.7397538322994988                        \n",
      "SPACE:                                                                            \n",
      "{'num_round': 100, 'silent': 0, 'predictionCol': 'prediction', 'min_child_weight': 100.0, 'max_depth': 10, 'subsample': 0.6, 'labelCol': 'label', 'objective': 'binary:logistic', 'gamma': 0.9, 'featuresCol': 'features', 'nworkers': 1, 'eta': 0.3, 'colsample_bytree': 0.6, 'nthread': 1, 'eval_metric': 'logloss'}\n",
      "LOG-LOSS: 0.5002054130636618, ROC-AUC: 0.7388821831244557                         \n",
      "SPACE:                                                                            \n",
      "{'num_round': 100, 'silent': 0, 'predictionCol': 'prediction', 'min_child_weight': 100.0, 'max_depth': 10, 'subsample': 0.8, 'labelCol': 'label', 'objective': 'binary:logistic', 'gamma': 0.9, 'featuresCol': 'features', 'nworkers': 1, 'eta': 0.3, 'colsample_bytree': 0.9, 'nthread': 1, 'eval_metric': 'logloss'}\n",
      "LOG-LOSS: 0.4997762404349395, ROC-AUC: 0.7394931348259437                         \n",
      "SPACE:                                                                            \n",
      "{'num_round': 100, 'silent': 0, 'predictionCol': 'prediction', 'min_child_weight': 100.0, 'max_depth': 10, 'subsample': 0.8, 'labelCol': 'label', 'objective': 'binary:logistic', 'gamma': 0.9, 'featuresCol': 'features', 'nworkers': 1, 'eta': 0.3, 'colsample_bytree': 0.9, 'nthread': 1, 'eval_metric': 'logloss'}\n",
      "LOG-LOSS: 0.4997762404349395, ROC-AUC: 0.7394931348259381                         \n",
      "SPACE:                                                                             \n",
      "{'num_round': 100, 'silent': 0, 'predictionCol': 'prediction', 'min_child_weight': 100.0, 'max_depth': 10, 'subsample': 0.7, 'labelCol': 'label', 'objective': 'binary:logistic', 'gamma': 0.9, 'featuresCol': 'features', 'nworkers': 1, 'eta': 0.3, 'colsample_bytree': 0.7, 'nthread': 1, 'eval_metric': 'logloss'}\n",
      "LOG-LOSS: 0.49952656794395195, ROC-AUC: 0.7399749060832774                         \n",
      "SPACE:                                                                             \n",
      "{'num_round': 100, 'silent': 0, 'predictionCol': 'prediction', 'min_child_weight': 100.0, 'max_depth': 10, 'subsample': 0.8, 'labelCol': 'label', 'objective': 'binary:logistic', 'gamma': 0.9, 'featuresCol': 'features', 'nworkers': 1, 'eta': 0.3, 'colsample_bytree': 0.8, 'nthread': 1, 'eval_metric': 'logloss'}\n",
      "LOG-LOSS: 0.49944870443964895, ROC-AUC: 0.7398850091175322                         \n",
      "SPACE:                                                                             \n",
      "{'num_round': 100, 'silent': 0, 'predictionCol': 'prediction', 'min_child_weight': 100.0, 'max_depth': 10, 'subsample': 0.6, 'labelCol': 'label', 'objective': 'binary:logistic', 'gamma': 0.9, 'featuresCol': 'features', 'nworkers': 1, 'eta': 0.3, 'colsample_bytree': 0.6, 'nthread': 1, 'eval_metric': 'logloss'}\n",
      "LOG-LOSS: 0.5002054130636618, ROC-AUC: 0.7388821831244474                          \n",
      "SPACE:                                                                             \n",
      "{'num_round': 100, 'silent': 0, 'predictionCol': 'prediction', 'min_child_weight': 100.0, 'max_depth': 10, 'subsample': 0.6, 'labelCol': 'label', 'objective': 'binary:logistic', 'gamma': 0.9, 'featuresCol': 'features', 'nworkers': 1, 'eta': 0.3, 'colsample_bytree': 0.7, 'nthread': 1, 'eval_metric': 'logloss'}\n",
      "LOG-LOSS: 0.4998640073409879, ROC-AUC: 0.7394811760651664                          \n",
      "SPACE:                                                                             \n",
      "{'num_round': 100, 'silent': 0, 'predictionCol': 'prediction', 'min_child_weight': 100.0, 'max_depth': 10, 'subsample': 0.9, 'labelCol': 'label', 'objective': 'binary:logistic', 'gamma': 0.9, 'featuresCol': 'features', 'nworkers': 1, 'eta': 0.3, 'colsample_bytree': 0.9, 'nthread': 1, 'eval_metric': 'logloss'}\n",
      "LOG-LOSS: 0.49951026092449197, ROC-AUC: 0.7399678061538204                         \n",
      "100%|██████████| 15/15 [46:31<00:00, 186.13s/trial, best loss: 0.49944870443964895]\n"
     ]
    }
   ],
   "source": [
    "subsample_choice        = [0.6, 0.7, 0.8, 0.9]\n",
    "colsample_bytree_choice = [0.6, 0.7, 0.8, 0.9]\n",
    "\n",
    "space['subsample']        = hp.choice('subsample',        subsample_choice)\n",
    "space['colsample_bytree'] = hp.choice('colsample_bytree', colsample_bytree_choice)  \n",
    "\n",
    "trials = Trials()\n",
    "best = fmin(fn=objective,\n",
    "            space=space,\n",
    "            algo=tpe.suggest,\n",
    "            max_evals=15,\n",
    "            trials=trials)"
   ]
  },
  {
   "cell_type": "code",
   "execution_count": 50,
   "metadata": {},
   "outputs": [
    {
     "data": {
      "text/plain": [
       "{'colsample_bytree': 2, 'subsample': 2}"
      ]
     },
     "execution_count": 50,
     "metadata": {},
     "output_type": "execute_result"
    }
   ],
   "source": [
    "best"
   ]
  },
  {
   "cell_type": "code",
   "execution_count": 54,
   "metadata": {},
   "outputs": [
    {
     "data": {
      "text/plain": [
       "(0.8, 0.8)"
      ]
     },
     "execution_count": 54,
     "metadata": {},
     "output_type": "execute_result"
    }
   ],
   "source": [
    "subsample        = subsample_choice[best['subsample']]\n",
    "colsample_bytree = colsample_bytree_choice[best['colsample_bytree']]\n",
    "subsample, colsample_bytree"
   ]
  },
  {
   "cell_type": "code",
   "execution_count": 55,
   "metadata": {},
   "outputs": [
    {
     "data": {
      "text/plain": [
       "{'colsample_bytree': 0.8,\n",
       " 'eta': 0.3,\n",
       " 'eval_metric': 'logloss',\n",
       " 'featuresCol': 'features',\n",
       " 'gamma': 0.9,\n",
       " 'labelCol': 'label',\n",
       " 'max_depth': 10,\n",
       " 'min_child_weight': 100.0,\n",
       " 'nthread': 1,\n",
       " 'num_round': 100,\n",
       " 'nworkers': 1,\n",
       " 'objective': 'binary:logistic',\n",
       " 'predictionCol': 'prediction',\n",
       " 'silent': 0,\n",
       " 'subsample': 0.8}"
      ]
     },
     "execution_count": 55,
     "metadata": {},
     "output_type": "execute_result"
    }
   ],
   "source": [
    "space['subsample'] = subsample\n",
    "space['colsample_bytree'] = colsample_bytree\n",
    "space"
   ]
  },
  {
   "cell_type": "code",
   "execution_count": 56,
   "metadata": {},
   "outputs": [
    {
     "data": {
      "text/plain": [
       "{'logloss': 0.5028679651765141, 'rocauc': 0.7398801728520573}"
      ]
     },
     "execution_count": 56,
     "metadata": {},
     "output_type": "execute_result"
    }
   ],
   "source": [
    "model_5 = XGBoostEstimator(**space).fit(train_df)\n",
    "\n",
    "all_metrics['model_5'] = {\n",
    "    'logloss': logloss(model_5, test_df, probabilities_col='probabilities'),\n",
    "    'rocauc' :  rocauc(model_5, test_df, probabilities_col='probabilities')\n",
    "}\n",
    "all_metrics['model_5']"
   ]
  },
  {
   "cell_type": "code",
   "execution_count": 57,
   "metadata": {},
   "outputs": [
    {
     "data": {
      "text/html": [
       "<div>\n",
       "<style scoped>\n",
       "    .dataframe tbody tr th:only-of-type {\n",
       "        vertical-align: middle;\n",
       "    }\n",
       "\n",
       "    .dataframe tbody tr th {\n",
       "        vertical-align: top;\n",
       "    }\n",
       "\n",
       "    .dataframe thead th {\n",
       "        text-align: right;\n",
       "    }\n",
       "</style>\n",
       "<table border=\"1\" class=\"dataframe\">\n",
       "  <thead>\n",
       "    <tr style=\"text-align: right;\">\n",
       "      <th></th>\n",
       "      <th>metric</th>\n",
       "      <th>model_2 ate %</th>\n",
       "      <th>model_3 ate %</th>\n",
       "      <th>model_4 ate %</th>\n",
       "      <th>model_5 ate %</th>\n",
       "    </tr>\n",
       "  </thead>\n",
       "  <tbody>\n",
       "    <tr>\n",
       "      <th>0</th>\n",
       "      <td>logloss</td>\n",
       "      <td>-1.938934</td>\n",
       "      <td>-2.217085</td>\n",
       "      <td>-2.217085</td>\n",
       "      <td>-2.210999</td>\n",
       "    </tr>\n",
       "    <tr>\n",
       "      <th>1</th>\n",
       "      <td>rocauc</td>\n",
       "      <td>1.761944</td>\n",
       "      <td>1.972143</td>\n",
       "      <td>1.972143</td>\n",
       "      <td>1.977713</td>\n",
       "    </tr>\n",
       "  </tbody>\n",
       "</table>\n",
       "</div>"
      ],
      "text/plain": [
       "    metric  model_2 ate %  model_3 ate %  model_4 ate %  model_5 ate %\n",
       "0  logloss      -1.938934      -2.217085      -2.217085      -2.210999\n",
       "1   rocauc       1.761944       1.972143       1.972143       1.977713"
      ]
     },
     "execution_count": 57,
     "metadata": {},
     "output_type": "execute_result"
    }
   ],
   "source": [
    "get_ate(all_metrics, CONTROL_NAME)"
   ]
  },
  {
   "cell_type": "markdown",
   "metadata": {},
   "source": [
    "### Tune regularization parameters\n",
    "\n",
    "> Tune regularization parameters (lambda, alpha) for xgboost which can help reduce model complexity and enhance performance."
   ]
  },
  {
   "cell_type": "code",
   "execution_count": 82,
   "metadata": {},
   "outputs": [
    {
     "name": "stdout",
     "output_type": "stream",
     "text": [
      "SPACE:                                                \n",
      "{'num_round': 100, 'silent': 0, 'alpha': 0.0, 'max_depth': 10, 'predictionCol': 'prediction', 'min_child_weight': 100.0, 'labelCol': 'label', 'subsample': 0.8, 'colsample_bytree': 0.8, 'objective': 'binary:logistic', 'featuresCol': 'features', 'lambda': 0.0, 'gamma': 0.9, 'nworkers': 1, 'eta': 0.3, 'nthread': 1, 'eval_metric': 'logloss'}\n",
      "LOG-LOSS: 0.4993349101887657, ROC-AUC: 0.7400513770208195\n",
      "SPACE:                                                                           \n",
      "{'num_round': 100, 'silent': 0, 'alpha': 0.0, 'max_depth': 10, 'predictionCol': 'prediction', 'min_child_weight': 100.0, 'labelCol': 'label', 'subsample': 0.8, 'colsample_bytree': 0.8, 'objective': 'binary:logistic', 'featuresCol': 'features', 'lambda': 0.3, 'gamma': 0.9, 'nworkers': 1, 'eta': 0.3, 'nthread': 1, 'eval_metric': 'logloss'}\n",
      "LOG-LOSS: 0.49945865763407926, ROC-AUC: 0.7398523978016651                       \n",
      "SPACE:                                                                           \n",
      "{'num_round': 100, 'silent': 0, 'alpha': 0.2, 'max_depth': 10, 'predictionCol': 'prediction', 'min_child_weight': 100.0, 'labelCol': 'label', 'subsample': 0.8, 'colsample_bytree': 0.8, 'objective': 'binary:logistic', 'featuresCol': 'features', 'lambda': 0.1, 'gamma': 0.9, 'nworkers': 1, 'eta': 0.3, 'nthread': 1, 'eval_metric': 'logloss'}\n",
      "LOG-LOSS: 0.49959064482433785, ROC-AUC: 0.739765256024386                        \n",
      "SPACE:                                                                           \n",
      "{'num_round': 100, 'silent': 0, 'alpha': 0.5, 'max_depth': 10, 'predictionCol': 'prediction', 'min_child_weight': 100.0, 'labelCol': 'label', 'subsample': 0.8, 'colsample_bytree': 0.8, 'objective': 'binary:logistic', 'featuresCol': 'features', 'lambda': 0.001, 'gamma': 0.9, 'nworkers': 1, 'eta': 0.3, 'nthread': 1, 'eval_metric': 'logloss'}\n",
      "LOG-LOSS: 0.49952180960556336, ROC-AUC: 0.739788141746003                        \n",
      "SPACE:                                                                           \n",
      "{'num_round': 100, 'silent': 0, 'alpha': 0.3, 'max_depth': 10, 'predictionCol': 'prediction', 'min_child_weight': 100.0, 'labelCol': 'label', 'subsample': 0.8, 'colsample_bytree': 0.8, 'objective': 'binary:logistic', 'featuresCol': 'features', 'lambda': 0.2, 'gamma': 0.9, 'nworkers': 1, 'eta': 0.3, 'nthread': 1, 'eval_metric': 'logloss'}\n",
      "LOG-LOSS: 0.4994254917088769, ROC-AUC: 0.7400155386252919                        \n",
      "SPACE:                                                                           \n",
      "{'num_round': 100, 'silent': 0, 'alpha': 0.01, 'max_depth': 10, 'predictionCol': 'prediction', 'min_child_weight': 100.0, 'labelCol': 'label', 'subsample': 0.8, 'colsample_bytree': 0.8, 'objective': 'binary:logistic', 'featuresCol': 'features', 'lambda': 0.1, 'gamma': 0.9, 'nworkers': 1, 'eta': 0.3, 'nthread': 1, 'eval_metric': 'logloss'}\n",
      "LOG-LOSS: 0.499643833721376, ROC-AUC: 0.7395144972969694                         \n",
      "SPACE:                                                                           \n",
      "{'num_round': 100, 'silent': 0, 'alpha': 0.001, 'max_depth': 10, 'predictionCol': 'prediction', 'min_child_weight': 100.0, 'labelCol': 'label', 'subsample': 0.8, 'colsample_bytree': 0.8, 'objective': 'binary:logistic', 'featuresCol': 'features', 'lambda': 0.5, 'gamma': 0.9, 'nworkers': 1, 'eta': 0.3, 'nthread': 1, 'eval_metric': 'logloss'}\n",
      "LOG-LOSS: 0.4994873733024984, ROC-AUC: 0.7398150199843512                        \n",
      "SPACE:                                                                           \n",
      "{'num_round': 100, 'silent': 0, 'alpha': 0.01, 'max_depth': 10, 'predictionCol': 'prediction', 'min_child_weight': 100.0, 'labelCol': 'label', 'subsample': 0.8, 'colsample_bytree': 0.8, 'objective': 'binary:logistic', 'featuresCol': 'features', 'lambda': 0.3, 'gamma': 0.9, 'nworkers': 1, 'eta': 0.3, 'nthread': 1, 'eval_metric': 'logloss'}\n",
      "LOG-LOSS: 0.4993111266634034, ROC-AUC: 0.7400860248305454                        \n",
      "SPACE:                                                                           \n",
      "{'num_round': 100, 'silent': 0, 'alpha': 0.001, 'max_depth': 10, 'predictionCol': 'prediction', 'min_child_weight': 100.0, 'labelCol': 'label', 'subsample': 0.8, 'colsample_bytree': 0.8, 'objective': 'binary:logistic', 'featuresCol': 'features', 'lambda': 0.001, 'gamma': 0.9, 'nworkers': 1, 'eta': 0.3, 'nthread': 1, 'eval_metric': 'logloss'}\n",
      "LOG-LOSS: 0.49969579861934854, ROC-AUC: 0.7394582994302243                       \n",
      "SPACE:                                                                           \n",
      "{'num_round': 100, 'silent': 0, 'alpha': 0.01, 'max_depth': 10, 'predictionCol': 'prediction', 'min_child_weight': 100.0, 'labelCol': 'label', 'subsample': 0.8, 'colsample_bytree': 0.8, 'objective': 'binary:logistic', 'featuresCol': 'features', 'lambda': 0.0, 'gamma': 0.9, 'nworkers': 1, 'eta': 0.3, 'nthread': 1, 'eval_metric': 'logloss'}\n",
      "LOG-LOSS: 0.4996279189717113, ROC-AUC: 0.7396350689611559                        \n",
      "SPACE:                                                                            \n",
      "{'num_round': 100, 'silent': 0, 'alpha': 0.5, 'max_depth': 10, 'predictionCol': 'prediction', 'min_child_weight': 100.0, 'labelCol': 'label', 'subsample': 0.8, 'colsample_bytree': 0.8, 'objective': 'binary:logistic', 'featuresCol': 'features', 'lambda': 0.5, 'gamma': 0.9, 'nworkers': 1, 'eta': 0.3, 'nthread': 1, 'eval_metric': 'logloss'}\n",
      "LOG-LOSS: 0.499606235816009, ROC-AUC: 0.7397498899905183                          \n",
      "SPACE:                                                                            \n",
      "{'num_round': 100, 'silent': 0, 'alpha': 0.2, 'max_depth': 10, 'predictionCol': 'prediction', 'min_child_weight': 100.0, 'labelCol': 'label', 'subsample': 0.8, 'colsample_bytree': 0.8, 'objective': 'binary:logistic', 'featuresCol': 'features', 'lambda': 0.1, 'gamma': 0.9, 'nworkers': 1, 'eta': 0.3, 'nthread': 1, 'eval_metric': 'logloss'}\n",
      "LOG-LOSS: 0.49959064482433785, ROC-AUC: 0.7397652560243859                        \n",
      "SPACE:                                                                            \n",
      "{'num_round': 100, 'silent': 0, 'alpha': 0.2, 'max_depth': 10, 'predictionCol': 'prediction', 'min_child_weight': 100.0, 'labelCol': 'label', 'subsample': 0.8, 'colsample_bytree': 0.8, 'objective': 'binary:logistic', 'featuresCol': 'features', 'lambda': 0.3, 'gamma': 0.9, 'nworkers': 1, 'eta': 0.3, 'nthread': 1, 'eval_metric': 'logloss'}\n",
      "LOG-LOSS: 0.4995083982838927, ROC-AUC: 0.7399179121311548                         \n",
      "SPACE:                                                                            \n",
      "{'num_round': 100, 'silent': 0, 'alpha': 0.2, 'max_depth': 10, 'predictionCol': 'prediction', 'min_child_weight': 100.0, 'labelCol': 'label', 'subsample': 0.8, 'colsample_bytree': 0.8, 'objective': 'binary:logistic', 'featuresCol': 'features', 'lambda': 0.2, 'gamma': 0.9, 'nworkers': 1, 'eta': 0.3, 'nthread': 1, 'eval_metric': 'logloss'}\n",
      "LOG-LOSS: 0.4993321825914407, ROC-AUC: 0.7399455528033613                         \n",
      "SPACE:                                                                            \n",
      "{'num_round': 100, 'silent': 0, 'alpha': 0.01, 'max_depth': 10, 'predictionCol': 'prediction', 'min_child_weight': 100.0, 'labelCol': 'label', 'subsample': 0.8, 'colsample_bytree': 0.8, 'objective': 'binary:logistic', 'featuresCol': 'features', 'lambda': 0.3, 'gamma': 0.9, 'nworkers': 1, 'eta': 0.3, 'nthread': 1, 'eval_metric': 'logloss'}\n",
      "LOG-LOSS: 0.4993111266634034, ROC-AUC: 0.7400860248305485                         \n",
      "SPACE:                                                                            \n",
      "{'num_round': 100, 'silent': 0, 'alpha': 0.001, 'max_depth': 10, 'predictionCol': 'prediction', 'min_child_weight': 100.0, 'labelCol': 'label', 'subsample': 0.8, 'colsample_bytree': 0.8, 'objective': 'binary:logistic', 'featuresCol': 'features', 'lambda': 0.1, 'gamma': 0.9, 'nworkers': 1, 'eta': 0.3, 'nthread': 1, 'eval_metric': 'logloss'}\n",
      "LOG-LOSS: 0.49948626027507065, ROC-AUC: 0.7397203461984011                        \n",
      "SPACE:                                                                            \n"
     ]
    },
    {
     "name": "stdout",
     "output_type": "stream",
     "text": [
      "{'num_round': 100, 'silent': 0, 'alpha': 0.5, 'max_depth': 10, 'predictionCol': 'prediction', 'min_child_weight': 100.0, 'labelCol': 'label', 'subsample': 0.8, 'colsample_bytree': 0.8, 'objective': 'binary:logistic', 'featuresCol': 'features', 'lambda': 0.5, 'gamma': 0.9, 'nworkers': 1, 'eta': 0.3, 'nthread': 1, 'eval_metric': 'logloss'}\n",
      "LOG-LOSS: 0.499606235816009, ROC-AUC: 0.7397498899905193                          \n",
      "SPACE:                                                                            \n",
      "{'num_round': 100, 'silent': 0, 'alpha': 0.5, 'max_depth': 10, 'predictionCol': 'prediction', 'min_child_weight': 100.0, 'labelCol': 'label', 'subsample': 0.8, 'colsample_bytree': 0.8, 'objective': 'binary:logistic', 'featuresCol': 'features', 'lambda': 0.01, 'gamma': 0.9, 'nworkers': 1, 'eta': 0.3, 'nthread': 1, 'eval_metric': 'logloss'}\n",
      "LOG-LOSS: 0.499552133431115, ROC-AUC: 0.7398778589033365                          \n",
      "SPACE:                                                                            \n",
      "{'num_round': 100, 'silent': 0, 'alpha': 0.1, 'max_depth': 10, 'predictionCol': 'prediction', 'min_child_weight': 100.0, 'labelCol': 'label', 'subsample': 0.8, 'colsample_bytree': 0.8, 'objective': 'binary:logistic', 'featuresCol': 'features', 'lambda': 0.3, 'gamma': 0.9, 'nworkers': 1, 'eta': 0.3, 'nthread': 1, 'eval_metric': 'logloss'}\n",
      "LOG-LOSS: 0.49946055687553953, ROC-AUC: 0.7398821784634482                        \n",
      "SPACE:                                                                            \n",
      "{'num_round': 100, 'silent': 0, 'alpha': 0.1, 'max_depth': 10, 'predictionCol': 'prediction', 'min_child_weight': 100.0, 'labelCol': 'label', 'subsample': 0.8, 'colsample_bytree': 0.8, 'objective': 'binary:logistic', 'featuresCol': 'features', 'lambda': 0.1, 'gamma': 0.9, 'nworkers': 1, 'eta': 0.3, 'nthread': 1, 'eval_metric': 'logloss'}\n",
      "LOG-LOSS: 0.49998862393400256, ROC-AUC: 0.7391580049108514                        \n",
      "100%|██████████| 20/20 [1:00:22<00:00, 181.12s/trial, best loss: 0.4993111266634034]\n"
     ]
    }
   ],
   "source": [
    "alpha_choice      = [0., .001, .01, .1, .2, 0.3, 0.5]\n",
    "reg_lambda_choice = [0., .001, .01, .1, .2, 0.3, 0.5]\n",
    "\n",
    "space['alpha']      = hp.choice('alpha',      alpha_choice)\n",
    "space['reg_lambda'] = hp.choice('reg_lambda', reg_lambda_choice)\n",
    "\n",
    "\n",
    "trials = Trials()\n",
    "best = fmin(fn=objective,\n",
    "            space=space,\n",
    "            algo=tpe.suggest,\n",
    "            max_evals=20,\n",
    "            trials=trials)"
   ]
  },
  {
   "cell_type": "code",
   "execution_count": 83,
   "metadata": {},
   "outputs": [
    {
     "data": {
      "text/plain": [
       "{'alpha': 2, 'reg_lambda': 5}"
      ]
     },
     "execution_count": 83,
     "metadata": {},
     "output_type": "execute_result"
    }
   ],
   "source": [
    "best"
   ]
  },
  {
   "cell_type": "code",
   "execution_count": 85,
   "metadata": {},
   "outputs": [
    {
     "data": {
      "text/plain": [
       "{'alpha': 0.01,\n",
       " 'colsample_bytree': 0.8,\n",
       " 'eta': 0.3,\n",
       " 'eval_metric': 'logloss',\n",
       " 'featuresCol': 'features',\n",
       " 'gamma': 0.9,\n",
       " 'labelCol': 'label',\n",
       " 'max_depth': 10,\n",
       " 'min_child_weight': 100.0,\n",
       " 'nthread': 1,\n",
       " 'num_round': 100,\n",
       " 'nworkers': 1,\n",
       " 'objective': 'binary:logistic',\n",
       " 'predictionCol': 'prediction',\n",
       " 'reg_lambda': 0.3,\n",
       " 'silent': 0,\n",
       " 'subsample': 0.8}"
      ]
     },
     "execution_count": 85,
     "metadata": {},
     "output_type": "execute_result"
    }
   ],
   "source": [
    "space['alpha']      = alpha_choice[best['alpha']]\n",
    "space['reg_lambda'] = reg_lambda_choice[best['reg_lambda']]\n",
    "space"
   ]
  },
  {
   "cell_type": "code",
   "execution_count": 86,
   "metadata": {},
   "outputs": [
    {
     "data": {
      "text/plain": [
       "{'logloss': 0.5029611272915919, 'rocauc': 0.7396112532601704}"
      ]
     },
     "execution_count": 86,
     "metadata": {},
     "output_type": "execute_result"
    }
   ],
   "source": [
    "model_6 = XGBoostEstimator(**space).fit(train_df)\n",
    "\n",
    "all_metrics['model_6'] = {\n",
    "    'logloss': logloss(model_6, test_df, probabilities_col='probabilities'),\n",
    "    'rocauc' :  rocauc(model_6, test_df, probabilities_col='probabilities')\n",
    "}\n",
    "all_metrics['model_6']"
   ]
  },
  {
   "cell_type": "code",
   "execution_count": 87,
   "metadata": {},
   "outputs": [
    {
     "data": {
      "text/html": [
       "<div>\n",
       "<style scoped>\n",
       "    .dataframe tbody tr th:only-of-type {\n",
       "        vertical-align: middle;\n",
       "    }\n",
       "\n",
       "    .dataframe tbody tr th {\n",
       "        vertical-align: top;\n",
       "    }\n",
       "\n",
       "    .dataframe thead th {\n",
       "        text-align: right;\n",
       "    }\n",
       "</style>\n",
       "<table border=\"1\" class=\"dataframe\">\n",
       "  <thead>\n",
       "    <tr style=\"text-align: right;\">\n",
       "      <th></th>\n",
       "      <th>metric</th>\n",
       "      <th>model_2 ate %</th>\n",
       "      <th>model_3 ate %</th>\n",
       "      <th>model_4 ate %</th>\n",
       "      <th>model_5 ate %</th>\n",
       "      <th>model_6 ate %</th>\n",
       "    </tr>\n",
       "  </thead>\n",
       "  <tbody>\n",
       "    <tr>\n",
       "      <th>0</th>\n",
       "      <td>logloss</td>\n",
       "      <td>-1.938934</td>\n",
       "      <td>-2.217085</td>\n",
       "      <td>-2.217085</td>\n",
       "      <td>-2.210999</td>\n",
       "      <td>-2.192883</td>\n",
       "    </tr>\n",
       "    <tr>\n",
       "      <th>1</th>\n",
       "      <td>rocauc</td>\n",
       "      <td>1.761944</td>\n",
       "      <td>1.972143</td>\n",
       "      <td>1.972143</td>\n",
       "      <td>1.977713</td>\n",
       "      <td>1.940648</td>\n",
       "    </tr>\n",
       "  </tbody>\n",
       "</table>\n",
       "</div>"
      ],
      "text/plain": [
       "    metric  model_2 ate %  model_3 ate %  model_4 ate %  model_5 ate %  \\\n",
       "0  logloss      -1.938934      -2.217085      -2.217085      -2.210999   \n",
       "1   rocauc       1.761944       1.972143       1.972143       1.977713   \n",
       "\n",
       "   model_6 ate %  \n",
       "0      -2.192883  \n",
       "1       1.940648  "
      ]
     },
     "execution_count": 87,
     "metadata": {},
     "output_type": "execute_result"
    }
   ],
   "source": [
    "get_ate(all_metrics, CONTROL_NAME)"
   ]
  },
  {
   "cell_type": "markdown",
   "metadata": {},
   "source": [
    "### Lower the learning rate and decide the optimal parameters"
   ]
  },
  {
   "cell_type": "code",
   "execution_count": null,
   "metadata": {},
   "outputs": [],
   "source": [
    "######################################\n",
    "######### YOUR CODE HERE #############\n",
    "######################################"
   ]
  },
  {
   "cell_type": "markdown",
   "metadata": {},
   "source": [
    "---\n",
    "## LogisticRegression Tuning\n",
    "\n",
    "Подберем гиперпараметры для логрега из предыдущих практик"
   ]
  },
  {
   "cell_type": "code",
   "execution_count": 67,
   "metadata": {},
   "outputs": [],
   "source": [
    "from pyspark.ml.classification import LogisticRegression\n",
    "\n",
    "def log_reg_objective(space):\n",
    "    estimator = LogisticRegression(**space)\n",
    "    print('SPACE:', estimator._input_kwargs)\n",
    "    success = False\n",
    "    attempts = 0\n",
    "    model = None\n",
    "    while not success and attempts < 2:\n",
    "        try:\n",
    "            model = estimator.fit(train_df)\n",
    "            success = True\n",
    "        except Exception as e:\n",
    "            attempts += 1\n",
    "            print(e)\n",
    "            print('Try again')\n",
    "        \n",
    "    log_loss = logloss(model, val_df, probabilities_col='probability')\n",
    "    roc_auc  =  rocauc(model, val_df, probabilities_col='probability')\n",
    "    \n",
    "    print('LOG-LOSS: {}, ROC-AUC: {}'.format(log_loss, roc_auc))\n",
    "\n",
    "    return {'loss': log_loss, 'rocauc': roc_auc, 'status': STATUS_OK }"
   ]
  },
  {
   "cell_type": "code",
   "execution_count": 68,
   "metadata": {},
   "outputs": [],
   "source": [
    "log_reg_metrics = {}"
   ]
  },
  {
   "cell_type": "code",
   "execution_count": 69,
   "metadata": {},
   "outputs": [],
   "source": [
    "log_reg_space = {\n",
    "    'featuresCol': 'features',\n",
    "    'labelCol'   : 'label',\n",
    "    \n",
    "    'maxIter'    : 10,\n",
    "    'regParam'       : 0.,\n",
    "    'elasticNetParam': 0.\n",
    "} \n",
    "\n",
    "log_reg_baseline = LogisticRegression(**log_reg_space).fit(train_df)"
   ]
  },
  {
   "cell_type": "code",
   "execution_count": 70,
   "metadata": {},
   "outputs": [
    {
     "data": {
      "text/plain": [
       "{'logloss': 0.531046765928655, 'rocauc': 0.7035777223524002}"
      ]
     },
     "execution_count": 70,
     "metadata": {},
     "output_type": "execute_result"
    }
   ],
   "source": [
    "log_reg_metrics['log_reg_baseline'] = {\n",
    "    'logloss': logloss(log_reg_baseline, test_df, probabilities_col='probability'),\n",
    "    'rocauc' :  rocauc(log_reg_baseline, test_df, probabilities_col='probability')\n",
    "}\n",
    "log_reg_metrics['log_reg_baseline']"
   ]
  },
  {
   "cell_type": "code",
   "execution_count": 72,
   "metadata": {
    "scrolled": true
   },
   "outputs": [
    {
     "name": "stdout",
     "output_type": "stream",
     "text": [
      "SPACE:                                                \n",
      "{'elasticNetParam': 0.001, 'maxIter': 10, 'labelCol': 'label', 'featuresCol': 'features', 'regParam': 0.05}\n",
      "LOG-LOSS: 0.530404117433663, ROC-AUC: 0.7004914094808631\n",
      "SPACE:                                                                         \n",
      "{'elasticNetParam': 0.001, 'maxIter': 10, 'labelCol': 'label', 'featuresCol': 'features', 'regParam': 0.05}\n",
      "LOG-LOSS: 0.530404117433663, ROC-AUC: 0.7004914094808647                       \n",
      "SPACE:                                                                         \n",
      "{'elasticNetParam': 0.05, 'maxIter': 10, 'labelCol': 'label', 'featuresCol': 'features', 'regParam': 0.05}\n",
      "LOG-LOSS: 0.5347408299329838, ROC-AUC: 0.6999968635869094                      \n",
      "SPACE:                                                                         \n",
      "{'elasticNetParam': 0.01, 'maxIter': 10, 'labelCol': 'label', 'featuresCol': 'features', 'regParam': 0.01}\n",
      "LOG-LOSS: 0.5274751895001702, ROC-AUC: 0.7023127241967498                      \n",
      "SPACE:                                                                          \n",
      "{'elasticNetParam': 0.001, 'maxIter': 10, 'labelCol': 'label', 'featuresCol': 'features', 'regParam': 0.001}\n",
      "LOG-LOSS: 0.5278819750696546, ROC-AUC: 0.7022698246826795                       \n",
      "SPACE:                                                                          \n",
      "{'elasticNetParam': 0.001, 'maxIter': 10, 'labelCol': 'label', 'featuresCol': 'features', 'regParam': 0.001}\n",
      "LOG-LOSS: 0.5278819750696546, ROC-AUC: 0.7022698246826763                       \n",
      "SPACE:                                                                          \n",
      "{'elasticNetParam': 0.05, 'maxIter': 10, 'labelCol': 'label', 'featuresCol': 'features', 'regParam': 0.05}\n",
      " 24%|██▍       | 6/25 [01:50<05:52, 18.55s/trial, best loss: 0.5274751895001702]"
     ]
    },
    {
     "name": "stderr",
     "output_type": "stream",
     "text": [
      "Exception ignored in: \n",
      "<object repr() failed>\n",
      "Traceback (most recent call last):\n",
      "\n",
      "  File \"/usr/local/spark/python/pyspark/ml/wrapper.py\", line 40, in __del__\n",
      "\n",
      "if SparkContext._active_spark_context and self._java_obj is not None:\n",
      "AttributeError\n",
      ": \n",
      "'LogisticRegression' object has no attribute '_java_obj'\n"
     ]
    },
    {
     "name": "stdout",
     "output_type": "stream",
     "text": [
      "LOG-LOSS: 0.5347408299329838, ROC-AUC: 0.6999968635869128                       \n",
      "SPACE:                                                                          \n",
      "{'elasticNetParam': 0.001, 'maxIter': 10, 'labelCol': 'label', 'featuresCol': 'features', 'regParam': 0.0}\n",
      "LOG-LOSS: 0.5281816810597477, ROC-AUC: 0.7026160227101298                       \n",
      "SPACE:                                                                          \n",
      "{'elasticNetParam': 0.0, 'maxIter': 10, 'labelCol': 'label', 'featuresCol': 'features', 'regParam': 0.1}\n",
      "LOG-LOSS: 0.5337244915605497, ROC-AUC: 0.7000764796699932                       \n",
      "SPACE:                                                                          \n",
      "{'elasticNetParam': 0.01, 'maxIter': 10, 'labelCol': 'label', 'featuresCol': 'features', 'regParam': 0.05}\n",
      "LOG-LOSS: 0.530862325061015, ROC-AUC: 0.7016420822640823                        \n",
      "SPACE:                                                                           \n",
      "{'elasticNetParam': 0.1, 'maxIter': 10, 'labelCol': 'label', 'featuresCol': 'features', 'regParam': 0.1}\n",
      "LOG-LOSS: 0.5473284994339694, ROC-AUC: 0.6894124272942744                        \n",
      "SPACE:                                                                           \n",
      "{'elasticNetParam': 0.1, 'maxIter': 10, 'labelCol': 'label', 'featuresCol': 'features', 'regParam': 0.05}\n",
      "LOG-LOSS: 0.539034866703846, ROC-AUC: 0.6955637959290998                         \n",
      "SPACE:                                                                           \n",
      "{'elasticNetParam': 0.1, 'maxIter': 10, 'labelCol': 'label', 'featuresCol': 'features', 'regParam': 0.0}\n",
      "LOG-LOSS: 0.5281816810597477, ROC-AUC: 0.70261602271013                          \n",
      "SPACE:                                                                           \n",
      "{'elasticNetParam': 0.01, 'maxIter': 10, 'labelCol': 'label', 'featuresCol': 'features', 'regParam': 0.001}\n",
      "LOG-LOSS: 0.527594447372829, ROC-AUC: 0.7023116234766658                         \n",
      "SPACE:                                                                           \n",
      "{'elasticNetParam': 0.05, 'maxIter': 10, 'labelCol': 'label', 'featuresCol': 'features', 'regParam': 0.1}\n",
      "LOG-LOSS: 0.5420562985693346, ROC-AUC: 0.6956395772802192                        \n",
      "SPACE:                                                                           \n",
      "{'elasticNetParam': 0.0, 'maxIter': 10, 'labelCol': 'label', 'featuresCol': 'features', 'regParam': 0.05}\n",
      "LOG-LOSS: 0.530445723428784, ROC-AUC: 0.7002792783739619                         \n",
      "SPACE:                                                                           \n",
      "{'elasticNetParam': 0.1, 'maxIter': 10, 'labelCol': 'label', 'featuresCol': 'features', 'regParam': 0.001}\n",
      "LOG-LOSS: 0.5270601202540057, ROC-AUC: 0.7030629665803387                        \n",
      "SPACE:                                                                           \n",
      "{'elasticNetParam': 0.001, 'maxIter': 10, 'labelCol': 'label', 'featuresCol': 'features', 'regParam': 0.1}\n",
      "LOG-LOSS: 0.5337494507663771, ROC-AUC: 0.7005673781869524                        \n",
      "SPACE:                                                                           \n",
      "{'elasticNetParam': 0.1, 'maxIter': 10, 'labelCol': 'label', 'featuresCol': 'features', 'regParam': 0.1}\n",
      "LOG-LOSS: 0.5473284994339694, ROC-AUC: 0.6894124272942722                        \n",
      "SPACE:                                                                           \n",
      "{'elasticNetParam': 0.1, 'maxIter': 10, 'labelCol': 'label', 'featuresCol': 'features', 'regParam': 0.001}\n",
      "LOG-LOSS: 0.5270601202540057, ROC-AUC: 0.7030629665803397                        \n",
      "SPACE:                                                                           \n",
      "{'elasticNetParam': 0.1, 'maxIter': 10, 'labelCol': 'label', 'featuresCol': 'features', 'regParam': 0.001}\n",
      "LOG-LOSS: 0.5270601202540057, ROC-AUC: 0.7030629665803365                        \n",
      "SPACE:                                                                           \n",
      "{'elasticNetParam': 0.1, 'maxIter': 10, 'labelCol': 'label', 'featuresCol': 'features', 'regParam': 0.001}\n",
      "LOG-LOSS: 0.5270601202540057, ROC-AUC: 0.7030629665803362                        \n",
      "SPACE:                                                                           \n",
      "{'elasticNetParam': 0.1, 'maxIter': 10, 'labelCol': 'label', 'featuresCol': 'features', 'regParam': 0.001}\n",
      "LOG-LOSS: 0.5270601202540057, ROC-AUC: 0.7030629665803373                        \n",
      "SPACE:                                                                           \n",
      "{'elasticNetParam': 0.1, 'maxIter': 10, 'labelCol': 'label', 'featuresCol': 'features', 'regParam': 0.01}\n",
      "LOG-LOSS: 0.5287064596137857, ROC-AUC: 0.702507894942894                         \n",
      "SPACE:                                                                           \n",
      "{'elasticNetParam': 0.1, 'maxIter': 10, 'labelCol': 'label', 'featuresCol': 'features', 'regParam': 0.001}\n",
      "LOG-LOSS: 0.5270601202540057, ROC-AUC: 0.7030629665803375                        \n",
      "100%|██████████| 25/25 [07:13<00:00, 17.33s/trial, best loss: 0.5270601202540057]\n"
     ]
    }
   ],
   "source": [
    "regParam_choice = [0., .001, .01, .05, .1]\n",
    "elasticNetParam_choice = [0., .001, 0.01, .05, .1]\n",
    "\n",
    "log_reg_space['regParam'] = hp.choice('regParam', regParam_choice)\n",
    "log_reg_space['elasticNetParam'] = hp.choice('elasticNetParam', elasticNetParam_choice)\n",
    "\n",
    "trials = Trials()\n",
    "best = fmin(fn=log_reg_objective,\n",
    "            space=log_reg_space,\n",
    "            algo=tpe.suggest,\n",
    "            max_evals=25,\n",
    "            trials=trials)"
   ]
  },
  {
   "cell_type": "code",
   "execution_count": 73,
   "metadata": {},
   "outputs": [
    {
     "data": {
      "text/plain": [
       "{'elasticNetParam': 4, 'regParam': 1}"
      ]
     },
     "execution_count": 73,
     "metadata": {},
     "output_type": "execute_result"
    }
   ],
   "source": [
    "best"
   ]
  },
  {
   "cell_type": "code",
   "execution_count": 74,
   "metadata": {},
   "outputs": [
    {
     "data": {
      "text/plain": [
       "(0.001, 0.1)"
      ]
     },
     "execution_count": 74,
     "metadata": {},
     "output_type": "execute_result"
    }
   ],
   "source": [
    "regParam        =        regParam_choice[best['regParam']]\n",
    "elasticNetParam = elasticNetParam_choice[best['elasticNetParam']]\n",
    "regParam, elasticNetParam"
   ]
  },
  {
   "cell_type": "code",
   "execution_count": 75,
   "metadata": {},
   "outputs": [
    {
     "data": {
      "text/plain": [
       "{'elasticNetParam': 0.1,\n",
       " 'featuresCol': 'features',\n",
       " 'labelCol': 'label',\n",
       " 'maxIter': 10,\n",
       " 'regParam': 0.001}"
      ]
     },
     "execution_count": 75,
     "metadata": {},
     "output_type": "execute_result"
    }
   ],
   "source": [
    "log_reg_space['regParam'] = regParam\n",
    "log_reg_space['elasticNetParam'] = elasticNetParam\n",
    "log_reg_space"
   ]
  },
  {
   "cell_type": "code",
   "execution_count": 76,
   "metadata": {},
   "outputs": [],
   "source": [
    "model = LogisticRegression(**log_reg_space).fit(train_df)"
   ]
  },
  {
   "cell_type": "code",
   "execution_count": 77,
   "metadata": {},
   "outputs": [
    {
     "data": {
      "text/plain": [
       "{'logloss': 0.5300497171179218, 'rocauc': 0.7036302896689541}"
      ]
     },
     "execution_count": 77,
     "metadata": {},
     "output_type": "execute_result"
    }
   ],
   "source": [
    "log_reg_metrics['log_reg_regularized'] = {\n",
    "    'logloss': logloss(model, test_df, probabilities_col='probability'),\n",
    "    'rocauc' :  rocauc(model, test_df, probabilities_col='probability')\n",
    "}\n",
    "log_reg_metrics['log_reg_regularized']"
   ]
  },
  {
   "cell_type": "code",
   "execution_count": 78,
   "metadata": {},
   "outputs": [
    {
     "data": {
      "text/html": [
       "<div>\n",
       "<style scoped>\n",
       "    .dataframe tbody tr th:only-of-type {\n",
       "        vertical-align: middle;\n",
       "    }\n",
       "\n",
       "    .dataframe tbody tr th {\n",
       "        vertical-align: top;\n",
       "    }\n",
       "\n",
       "    .dataframe thead th {\n",
       "        text-align: right;\n",
       "    }\n",
       "</style>\n",
       "<table border=\"1\" class=\"dataframe\">\n",
       "  <thead>\n",
       "    <tr style=\"text-align: right;\">\n",
       "      <th></th>\n",
       "      <th>log_reg_regularized ate %</th>\n",
       "      <th>metric</th>\n",
       "    </tr>\n",
       "  </thead>\n",
       "  <tbody>\n",
       "    <tr>\n",
       "      <th>0</th>\n",
       "      <td>-0.187752</td>\n",
       "      <td>logloss</td>\n",
       "    </tr>\n",
       "    <tr>\n",
       "      <th>1</th>\n",
       "      <td>0.007471</td>\n",
       "      <td>rocauc</td>\n",
       "    </tr>\n",
       "  </tbody>\n",
       "</table>\n",
       "</div>"
      ],
      "text/plain": [
       "   log_reg_regularized ate %   metric\n",
       "0                  -0.187752  logloss\n",
       "1                   0.007471   rocauc"
      ]
     },
     "execution_count": 78,
     "metadata": {},
     "output_type": "execute_result"
    }
   ],
   "source": [
    "get_ate(log_reg_metrics, 'log_reg_baseline')"
   ]
  },
  {
   "cell_type": "markdown",
   "metadata": {},
   "source": [
    "---\n",
    "## Optional [MongoTrials](https://hyperopt.github.io/hyperopt/scaleout/mongodb/)\n",
    "\n",
    "> For parallel search, hyperopt includes a MongoTrials implementation that supports asynchronous updates.\n",
    "\n",
    "**TLDR** Преимущества использования `MongoTrials`:\n",
    "* `MongoTrials` позволяет параллельно запускать несколько вычислений целевой функции\n",
    "* Динамический уровень параллелизма - можно добавлять/удалять воркеров, которые вычисляют целевую функцию\n",
    "* Все результаты сохраняются в БД - история запусков никуда не потеряется\n",
    "\n",
    "*За выполнение данного задания можно получить дополнительно +0.4 к итоговому баллу*"
   ]
  },
  {
   "cell_type": "markdown",
   "metadata": {},
   "source": [
    "### XGBoost Tuning"
   ]
  },
  {
   "cell_type": "code",
   "execution_count": null,
   "metadata": {},
   "outputs": [],
   "source": [
    "######################################\n",
    "######### YOUR CODE HERE #############\n",
    "######################################"
   ]
  },
  {
   "cell_type": "markdown",
   "metadata": {},
   "source": [
    "# Results\n",
    "\n",
    "Подведем итоги.\n",
    "\n",
    "Обучите модели с найденными (оптимальными) гиперпараметрами и сделайте справнение на отложенной выборке"
   ]
  },
  {
   "cell_type": "code",
   "execution_count": null,
   "metadata": {},
   "outputs": [],
   "source": [
    "######################################\n",
    "######### YOUR CODE HERE #############\n",
    "######################################"
   ]
  },
  {
   "cell_type": "markdown",
   "metadata": {},
   "source": [
    "Итоговая таблица"
   ]
  },
  {
   "cell_type": "code",
   "execution_count": 23,
   "metadata": {},
   "outputs": [
    {
     "data": {
      "text/html": [
       "<div>\n",
       "<style scoped>\n",
       "    .dataframe tbody tr th:only-of-type {\n",
       "        vertical-align: middle;\n",
       "    }\n",
       "\n",
       "    .dataframe tbody tr th {\n",
       "        vertical-align: top;\n",
       "    }\n",
       "\n",
       "    .dataframe thead th {\n",
       "        text-align: right;\n",
       "    }\n",
       "</style>\n",
       "<table border=\"1\" class=\"dataframe\">\n",
       "  <thead>\n",
       "    <tr style=\"text-align: right;\">\n",
       "      <th></th>\n",
       "      <th>metric</th>\n",
       "      <th>xgb opt ate %</th>\n",
       "    </tr>\n",
       "  </thead>\n",
       "  <tbody>\n",
       "    <tr>\n",
       "      <th>0</th>\n",
       "      <td>logloss</td>\n",
       "      <td>0.000000e+00</td>\n",
       "    </tr>\n",
       "    <tr>\n",
       "      <th>1</th>\n",
       "      <td>rocauc</td>\n",
       "      <td>-1.554312e-13</td>\n",
       "    </tr>\n",
       "  </tbody>\n",
       "</table>\n",
       "</div>"
      ],
      "text/plain": [
       "    metric  xgb opt ate %\n",
       "0  logloss   0.000000e+00\n",
       "1   rocauc  -1.554312e-13"
      ]
     },
     "execution_count": 23,
     "metadata": {},
     "output_type": "execute_result"
    }
   ],
   "source": [
    "get_ate(all_metrics, CONTROL_NAME)"
   ]
  }
 ],
 "metadata": {
  "kernelspec": {
   "display_name": "Python 3",
   "language": "python",
   "name": "python3"
  },
  "language_info": {
   "codemirror_mode": {
    "name": "ipython",
    "version": 3
   },
   "file_extension": ".py",
   "mimetype": "text/x-python",
   "name": "python",
   "nbconvert_exporter": "python",
   "pygments_lexer": "ipython3",
   "version": "3.5.6"
  },
  "toc": {
   "base_numbering": 1,
   "nav_menu": {},
   "number_sections": true,
   "sideBar": true,
   "skip_h1_title": false,
   "title_cell": "Table of Contents",
   "title_sidebar": "Contents",
   "toc_cell": true,
   "toc_position": {},
   "toc_section_display": true,
   "toc_window_display": true
  }
 },
 "nbformat": 4,
 "nbformat_minor": 2
}
